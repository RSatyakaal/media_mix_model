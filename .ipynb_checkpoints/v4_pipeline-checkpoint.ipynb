{
 "cells": [
  {
   "cell_type": "markdown",
   "metadata": {},
   "source": [
    "# SAAS <> Media Matters Worldwide Media Mix Model and Budget Optimizer"
   ]
  },
  {
   "cell_type": "markdown",
   "metadata": {},
   "source": [
    "This notebook contains a media mix model, created from methods similar to __[this paper](https://static.googleusercontent.com/media/research.google.com/en//pubs/archive/46001.pdf)__. The model informs a budget optimizer, which optimizes the budget for spending in advertising media channels in the short-term."
   ]
  },
  {
   "cell_type": "markdown",
   "metadata": {},
   "source": [
    "There are 4 sections in this notebook.\n",
    "\n",
    "1. [Data Collection](#data-collection)\n",
    "2. [Data Preprocessing](#data-preprocessing)\n",
    "3. [Modeling](#modeling)\n",
    "4. [Optimization](#optimize)"
   ]
  },
  {
   "cell_type": "markdown",
   "metadata": {},
   "source": [
    "> Run a notebook-cell by clicking a cell and pressing ctrl-enter (windows) or  (equivalent on mac). Alternatively, after selecting a cell, hit the play button in the navigation bar at the top\n",
    "\n",
    "> Don't modify the code in any cell unless explicitly prompted to do so.     "
   ]
  },
  {
   "cell_type": "markdown",
   "metadata": {},
   "source": [
    "***"
   ]
  },
  {
   "cell_type": "markdown",
   "metadata": {},
   "source": [
    "Replace the `client` variable with the client's name. The client's name should be surrounded by double quotations."
   ]
  },
  {
   "cell_type": "code",
   "execution_count": null,
   "metadata": {},
   "outputs": [],
   "source": [
    "client = \"MHW\""
   ]
  },
  {
   "cell_type": "markdown",
   "metadata": {},
   "source": [
    "Run the following three cells to import the necessary packages"
   ]
  },
  {
   "cell_type": "code",
   "execution_count": null,
   "metadata": {},
   "outputs": [],
   "source": [
    "import warnings\n",
    "warnings.filterwarnings(action='ignore')"
   ]
  },
  {
   "cell_type": "code",
   "execution_count": null,
   "metadata": {},
   "outputs": [],
   "source": [
    "import pandas as pd\n",
    "import numpy as np\n",
    "import matplotlib.pyplot as plt\n",
    "import seaborn as sns\n",
    "import sklearn\n",
    "\n",
    "from sklearn.linear_model import LinearRegression\n",
    "from sklearn.linear_model import RidgeCV, Ridge, Lasso\n",
    "from sklearn.model_selection import train_test_split\n",
    "from sklearn.model_selection import KFold\n",
    "from sklearn.ensemble import RandomForestRegressor\n",
    "from sklearn.model_selection import train_test_split\n",
    "from sklearn.metrics import explained_variance_score, mean_squared_error, r2_score \n",
    "from sklearn.metrics import mean_absolute_percentage_error\n",
    "from sklearn.preprocessing import StandardScaler\n",
    "\n",
    "from datetime import datetime as dt\n",
    "from functools import reduce\n",
    "from yellowbrick.regressor import residuals_plot\n",
    "from transformations import transform_one_column, select_best_feature, feature_imp_random_forest\n",
    "\n",
    "import time\n",
    "import datetime\n",
    "import ipywidgets as widgets\n",
    "from ipywidgets import FileUpload\n",
    "\n",
    "from IPython.display import display\n",
    "from IPython.display import FileLink\n",
    "import io\n",
    "import re\n",
    "from scipy.optimize import minimize, LinearConstraint\n",
    "\n",
    "import openpyxl\n",
    "import xlrd\n",
    "\n",
    "import holidays\n",
    "\n",
    "import panel as pn\n",
    "pn.extension()"
   ]
  },
  {
   "cell_type": "code",
   "execution_count": null,
   "metadata": {},
   "outputs": [],
   "source": [
    "from v4_helper import *"
   ]
  },
  {
   "cell_type": "code",
   "execution_count": null,
   "metadata": {
    "tags": []
   },
   "outputs": [],
   "source": [
    "# COMMANDS I RAN TO GET FILEUPLOAD AND JUPYTERWIDGETS TO LOAD\n",
    "# !jupyter nbextension enable --py widgetsnbextension\n",
    "# !pip install jupyterlab-widgets\n",
    "# !jupyter labextension install @jupyter-widgets/jupyterlab-manager\n",
    "# uf = upload.value[list(upload.value.keys())[0]]['content']"
   ]
  },
  {
   "cell_type": "markdown",
   "metadata": {},
   "source": [
    "***"
   ]
  },
  {
   "cell_type": "markdown",
   "metadata": {
    "tags": []
   },
   "source": [
    "<a id=\"data-collection\"></a> \n",
    "# Data Collection"
   ]
  },
  {
   "cell_type": "markdown",
   "metadata": {},
   "source": [
    "<div class=\"alert alert-block alert-info\">\n",
    "<b>Note: </b>The notebook is only compatible with two file formats: .csv and .xlsx.</div>"
   ]
  },
  {
   "cell_type": "markdown",
   "metadata": {},
   "source": [
    "## 1A: Input Data - Sales"
   ]
  },
  {
   "cell_type": "markdown",
   "metadata": {},
   "source": [
    "Set the `use_excel` variable in the next cell to `False` if you are inputting a `.csv` file; if you are inputting a `xlsx`, leave as `True` .\n",
    "Set the `granularity` variable in the next cell to `False` if the granularity (what each row in the data represents) is weekly; if daily, leave as `True`.\n",
    "> The granularity of the sales data must be the same as the granularity of the advertising mix data"
   ]
  },
  {
   "cell_type": "code",
   "execution_count": null,
   "metadata": {},
   "outputs": [],
   "source": [
    "use_excel = True\n",
    "granularity = True\n",
    "data_type = \"SALES DATA\""
   ]
  },
  {
   "cell_type": "markdown",
   "metadata": {},
   "source": [
    "***"
   ]
  },
  {
   "cell_type": "markdown",
   "metadata": {},
   "source": [
    "### step 1: attach file"
   ]
  },
  {
   "cell_type": "markdown",
   "metadata": {},
   "source": [
    "The next cell will take you through the steps to input the data. Don't modify any of the parameters (`data_type` and `use_excel`) in the cell.\n",
    "After running the cell, an *Upload* Button will pop up. Click the *Upload* Button, navigate to the folder on your computer that contains the sales data, and attach the proper file. Once you upload the *sales data*, the number next to *Upload* should change from 0 to 1. If so, proceed by running the next cell.\n",
    "\n",
    "> The *Upload* widget will only recognize and look for .csv or .xlsx formats."
   ]
  },
  {
   "cell_type": "code",
   "execution_count": null,
   "metadata": {},
   "outputs": [],
   "source": [
    "df_as_bytes = input_file(data_type, use_excel=use_excel)"
   ]
  },
  {
   "cell_type": "markdown",
   "metadata": {},
   "source": [
    "***"
   ]
  },
  {
   "cell_type": "markdown",
   "metadata": {},
   "source": [
    "### step 2: parse sales data"
   ]
  },
  {
   "cell_type": "markdown",
   "metadata": {},
   "source": [
    "Now that you've attached the sales data, the notebook will need to parse the data from the *Upload* Button. \n",
    "After running the cell, the notebook will display the sales data in a table. \n",
    "The following cell will ask you the following questions regarding the format of the data.\n",
    "\n",
    "1. Is the header, as displayed, of the dataframe correct? [y/n] If no, which row contains the header (zero-indexed)?\n",
    "2. Is the SALES DATA file good to go? [y/n]\n",
    "\n",
    "`y` corresponds to yes, and `n` corresponds to no. `zero-indexed` is a way of numbering in which the initial element of a sequence is assigned the index 0, rather than 1."
   ]
  },
  {
   "cell_type": "code",
   "execution_count": null,
   "metadata": {},
   "outputs": [],
   "source": [
    "sales_df = parse_file(df_as_bytes, data_type, use_excel=use_excel)"
   ]
  },
  {
   "cell_type": "markdown",
   "metadata": {},
   "source": [
    "***"
   ]
  },
  {
   "cell_type": "markdown",
   "metadata": {},
   "source": [
    "### step 3: clean sales data"
   ]
  },
  {
   "cell_type": "markdown",
   "metadata": {},
   "source": [
    "After running the cell, the notebook will display a list of the column-names of the sales data.\n",
    "\n",
    "This cell asks you to identify the different countries or regions represented in the data, identify which column corresponds to the (day/week) and identify which column corresponds to the target or dependent variable (revenue/orders).\n",
    "\n",
    "> Type each column name exactly as it is displayed, without quotations"
   ]
  },
  {
   "cell_type": "code",
   "execution_count": null,
   "metadata": {},
   "outputs": [],
   "source": [
    "sales_df_cleaned = clean_sales(sales_df, data_type, granularity=granularity)"
   ]
  },
  {
   "cell_type": "markdown",
   "metadata": {},
   "source": [
    "***"
   ]
  },
  {
   "cell_type": "markdown",
   "metadata": {},
   "source": [
    "This process will be repeated for the advertising media mix data."
   ]
  },
  {
   "cell_type": "markdown",
   "metadata": {},
   "source": [
    "## 1B: Input Data - Ad Mix"
   ]
  },
  {
   "cell_type": "markdown",
   "metadata": {},
   "source": [
    "Now that you've uploaded the sales data, the notebook requires advertising mix data.\n",
    "Set the `use_excel` variable in the next cell to `False` if you are inputting a .csv file; if not, leave as `True`.\n",
    "\n",
    "> The granularity of this data must be the same granularity of the sales data."
   ]
  },
  {
   "cell_type": "code",
   "execution_count": null,
   "metadata": {},
   "outputs": [],
   "source": [
    "use_excel = True"
   ]
  },
  {
   "cell_type": "markdown",
   "metadata": {},
   "source": [
    "***"
   ]
  },
  {
   "cell_type": "markdown",
   "metadata": {},
   "source": [
    "### step 1: input ad data"
   ]
  },
  {
   "cell_type": "code",
   "execution_count": null,
   "metadata": {},
   "outputs": [],
   "source": [
    "data_type = \"AD DATA\""
   ]
  },
  {
   "cell_type": "code",
   "execution_count": null,
   "metadata": {},
   "outputs": [],
   "source": [
    "ad_df_as_bytes = input_file(data_type, use_excel=use_excel)"
   ]
  },
  {
   "cell_type": "markdown",
   "metadata": {},
   "source": [
    "***"
   ]
  },
  {
   "cell_type": "markdown",
   "metadata": {},
   "source": [
    "### step 2: parse ad data"
   ]
  },
  {
   "cell_type": "markdown",
   "metadata": {},
   "source": [
    "Now that you've attached the ad data, like before, the notebook will need to parse the data from the *Upload* Button. \n",
    "After running the cell, the notebook will display the ad data in a table. \n",
    "The following questions regarding the format of the data will be asked.\n",
    "\n",
    "1. Is the header, as displayed, of the dataframe correct? [y/n] If no, which row contains the header (zero-indexed)?\n",
    "2. Is the ad mix data file good to go? [y/n]\n",
    "\n",
    "`y` corresponds to yes, and `n` corresponds to no. `zero-indexed` is a way of numbering in which the initial element of a sequence is assigned the index 0, rather than 1."
   ]
  },
  {
   "cell_type": "code",
   "execution_count": null,
   "metadata": {},
   "outputs": [],
   "source": [
    "ad_df = parse_file(ad_df_as_bytes, data_type, use_excel=use_excel)"
   ]
  },
  {
   "cell_type": "markdown",
   "metadata": {},
   "source": [
    "***"
   ]
  },
  {
   "cell_type": "markdown",
   "metadata": {},
   "source": [
    "### step 3: clean ad mix data and merge with sales data"
   ]
  },
  {
   "cell_type": "markdown",
   "metadata": {},
   "source": [
    "After running the cell, the notebook will display a list of the column-names of the ad mix data. This cell asks you to identify the column in the ad data corresponding to the country/region, media cost, and impressions.\n",
    "\n",
    "The output of this cell, `data_dict`, is a dictionary mapping country name to its corresponding data matrix."
   ]
  },
  {
   "cell_type": "code",
   "execution_count": null,
   "metadata": {},
   "outputs": [],
   "source": [
    "data_dict = clean_and_merge(ad_df, sales_df_cleaned)"
   ]
  },
  {
   "cell_type": "markdown",
   "metadata": {},
   "source": [
    "***"
   ]
  },
  {
   "cell_type": "markdown",
   "metadata": {},
   "source": [
    "<a id=\"data-preprocessing\"></a> \n",
    "# 2) Data Preprocessing"
   ]
  },
  {
   "cell_type": "markdown",
   "metadata": {},
   "source": [
    "This cell finds the optimal parameters for the `carryover` and `diminishing return` transformations. \n",
    "\n",
    "The notebook is only capable of working with one dataset at a time. Run the next cell to get a list of valid country names. Set the value of `country` in the next cell to one of the values in the list of country names. Ensure the country name is surrounding by double quotations, like `\"country_name\"`. \n",
    "\n",
    "> The results from the remainder of the notebook will be only for this country."
   ]
  },
  {
   "cell_type": "code",
   "execution_count": null,
   "metadata": {},
   "outputs": [],
   "source": [
    "possible_countries = data_dict.keys()\n",
    "print(\"Possible Countries to choose from\", list(possible_countries))"
   ]
  },
  {
   "cell_type": "markdown",
   "metadata": {},
   "source": [
    "Set the `target` variable to the dependent variable, `Revenue` or `Orders`, or something else."
   ]
  },
  {
   "cell_type": "code",
   "execution_count": null,
   "metadata": {},
   "outputs": [],
   "source": [
    "country = \"US\"\n",
    "target = 'Orders'"
   ]
  },
  {
   "cell_type": "markdown",
   "metadata": {},
   "source": [
    "> This cell takes between two and 15 minutes to run"
   ]
  },
  {
   "cell_type": "code",
   "execution_count": null,
   "metadata": {},
   "outputs": [],
   "source": [
    "data_matrix = apply_transformations(data_dict, country=country, response_var=target)"
   ]
  },
  {
   "cell_type": "markdown",
   "metadata": {},
   "source": [
    "***"
   ]
  },
  {
   "cell_type": "markdown",
   "metadata": {},
   "source": [
    "<a id=\"modeling\"></a> \n",
    "# 3) Modeling"
   ]
  },
  {
   "cell_type": "markdown",
   "metadata": {},
   "source": [
    "The model, ridge regression, will be trained. The model can be set to `additive` or `multiplicative`, which makes another set of assumptions. Set the `model_type` variable below to either `\"additive\"` or `\"multiplicative\"`, maintaining the double quotations. Set the `include_impressions` variable to `True` if you'd like to include impressions in the model (at the risk of overfitting), or leave as `False`."
   ]
  },
  {
   "cell_type": "markdown",
   "metadata": {},
   "source": [
    "## model fitting"
   ]
  },
  {
   "cell_type": "code",
   "execution_count": null,
   "metadata": {},
   "outputs": [],
   "source": [
    "model_type = \"additive\"\n",
    "include_impressions = False"
   ]
  },
  {
   "cell_type": "code",
   "execution_count": null,
   "metadata": {},
   "outputs": [],
   "source": [
    "if model_type == \"additive\":\n",
    "    x, y = prep_additive_model(data_matrix.fillna(0), target)\n",
    "    if not include_impressions:\n",
    "        x = x[get_media_vars(x)]\n",
    "    model = ridge_regression(x, y)\n",
    "elif model_type == \"multiplicative\":\n",
    "    x, y = prep_mult_model(data_matrix.fillna(0), target)\n",
    "    if not include_impressions:\n",
    "        x = x[get_media_vars(x)]\n",
    "    model = ridge_regression(x, y)"
   ]
  },
  {
   "cell_type": "markdown",
   "metadata": {},
   "source": [
    "***"
   ]
  },
  {
   "cell_type": "markdown",
   "metadata": {},
   "source": [
    "## model evaluation"
   ]
  },
  {
   "cell_type": "markdown",
   "metadata": {},
   "source": [
    "Here's a graph of how well the model performs on the training set.\n",
    "> MAPE = mean absolute percent error between the true revenue and predicted revenue (from trained model)"
   ]
  },
  {
   "cell_type": "code",
   "execution_count": null,
   "metadata": {},
   "outputs": [],
   "source": [
    "pred_vs_true(model, x, y)"
   ]
  },
  {
   "cell_type": "markdown",
   "metadata": {},
   "source": [
    "### one-day forecasting"
   ]
  },
  {
   "cell_type": "code",
   "execution_count": null,
   "metadata": {},
   "outputs": [],
   "source": [
    "box, c = init_sliders(model)"
   ]
  },
  {
   "cell_type": "code",
   "execution_count": null,
   "metadata": {},
   "outputs": [],
   "source": [
    "box"
   ]
  },
  {
   "cell_type": "markdown",
   "metadata": {},
   "source": [
    "Run the next cell. Verify that the specified slider values match the output."
   ]
  },
  {
   "cell_type": "code",
   "execution_count": null,
   "metadata": {},
   "outputs": [],
   "source": [
    "get_slider_vals(model, c)"
   ]
  },
  {
   "cell_type": "code",
   "execution_count": null,
   "metadata": {},
   "outputs": [],
   "source": [
    "if model_type == \"additive\":\n",
    "    arr =  add_predict(data_dict[country].copy(), model, c)\n",
    "elif model_type == \"multiplicative\":\n",
    "    arr =  mult_predict(data_dict[country].copy(), model, c)"
   ]
  },
  {
   "cell_type": "markdown",
   "metadata": {},
   "source": [
    "### One-Month Forecasting"
   ]
  },
  {
   "cell_type": "markdown",
   "metadata": {},
   "source": [
    "Run the next cell and proceed."
   ]
  },
  {
   "cell_type": "code",
   "execution_count": null,
   "metadata": {},
   "outputs": [],
   "source": [
    "get_media_vars(x)"
   ]
  },
  {
   "cell_type": "markdown",
   "metadata": {},
   "source": [
    "To forecast for one-month (or any time length greater than 1 day), write an excel spreadsheet or .csv file with the above columns in that **EXACT** order. Set `use_excel` to `True` if the file is an excel file, else set it to `False`."
   ]
  },
  {
   "cell_type": "code",
   "execution_count": null,
   "metadata": {},
   "outputs": [],
   "source": [
    "data_type = \"ad data [forecasting]\"\n",
    "use_excel = True"
   ]
  },
  {
   "cell_type": "code",
   "execution_count": null,
   "metadata": {},
   "outputs": [],
   "source": [
    "forecast_as_bytes = input_file(data_type, use_excel=use_excel)"
   ]
  },
  {
   "cell_type": "code",
   "execution_count": null,
   "metadata": {
    "tags": []
   },
   "outputs": [],
   "source": [
    "forecast_sales_df = parse_file(forecast_as_bytes, data_type, use_excel=use_excel)"
   ]
  },
  {
   "cell_type": "code",
   "execution_count": null,
   "metadata": {},
   "outputs": [],
   "source": [
    "forecast_output_df = month_predict(forecast_sales_df.copy(), data_dict[country].copy(), model, model_type)"
   ]
  },
  {
   "cell_type": "markdown",
   "metadata": {},
   "source": [
    "#### plot of predictions\n",
    "\n",
    "Run the next cell to get a plot of predicted revenue for one month (or more) of forecasting. To export these predictions, see the bottom of this notebook for export options."
   ]
  },
  {
   "cell_type": "code",
   "execution_count": null,
   "metadata": {},
   "outputs": [],
   "source": [
    "plt.plot(forecast_output_df.predictions)\n",
    "plt.title(\"Forecasted Revenue\");"
   ]
  },
  {
   "cell_type": "markdown",
   "metadata": {},
   "source": [
    "***"
   ]
  },
  {
   "cell_type": "markdown",
   "metadata": {},
   "source": [
    "<a id=\"optimize\"></a> \n",
    "# 4) Optimization"
   ]
  },
  {
   "cell_type": "markdown",
   "metadata": {},
   "source": [
    "We can use the training ridge regression model to optimize the mix. The optimizer can optimize the budget for a single day/week, and for a month. Run the next code cell to get a list of range sliders. Each slider can be adjusted accordingly to set the lower and upper bounds for each column. Then, run the rest of the cells. \n",
    "\n",
    "> Sometimes, the optimizer won't converge, due to either lack of data or lack of statistical significance."
   ]
  },
  {
   "cell_type": "markdown",
   "metadata": {},
   "source": [
    "## model for optimization"
   ]
  },
  {
   "cell_type": "code",
   "execution_count": null,
   "metadata": {},
   "outputs": [],
   "source": [
    "x, y = prep_additive_model(data_matrix.fillna(0), target)\n",
    "x_opt = x[get_media_vars(x)]\n",
    "model_opt = ridge_regression(x_opt, y)"
   ]
  },
  {
   "cell_type": "markdown",
   "metadata": {},
   "source": [
    "## optimized budget - day"
   ]
  },
  {
   "cell_type": "markdown",
   "metadata": {},
   "source": [
    "Run the next cell and set the lower and upper bounds appropriately by moving the cursors on the end. Unfortunately, there is no way to type values in as bounds, so be precise when setting the bounds."
   ]
  },
  {
   "cell_type": "markdown",
   "metadata": {},
   "source": [
    "> The one-day optimizer depends heavily on the past two weeks of data, so the one-day optimizer sometimes struggles to find meaningful results. This is corrected by the one-month+ optimizer."
   ]
  },
  {
   "cell_type": "code",
   "execution_count": null,
   "metadata": {},
   "outputs": [],
   "source": [
    "dm2 = pd.concat([x_opt, y], axis=1)\n",
    "bounds, a = set_bounds(model_opt)\n",
    "bounds"
   ]
  },
  {
   "cell_type": "markdown",
   "metadata": {},
   "source": [
    "In the next cell, edit the budget parameter by setting the value after `budget=` to whatever specified budget size you'd like. Then, run the cell."
   ]
  },
  {
   "cell_type": "code",
   "execution_count": null,
   "metadata": {
    "tags": []
   },
   "outputs": [],
   "source": [
    "b = add_optimize_budget(data_dict[country].copy(), dm2.copy(), model_opt, a, budget=30000)"
   ]
  },
  {
   "cell_type": "code",
   "execution_count": null,
   "metadata": {},
   "outputs": [],
   "source": [
    "graph(b, 'optimized budget')"
   ]
  },
  {
   "cell_type": "markdown",
   "metadata": {},
   "source": [
    "***\n",
    "\n",
    "## optimized budget - month"
   ]
  },
  {
   "cell_type": "markdown",
   "metadata": {},
   "source": [
    "To get the optimized budget for a month, run the next cell to get more bounds sliders. After that, run the next two cells, which will output a graph. To export the optimized budget to an excel spreadsheet, run the code under this section.\n",
    "\n",
    "If the graph has low variance and values converge, the columns for which the spend converges are yet to be saturated. If the graph has high variance and values don't converge, under our assumptions, spend for the non-converging channels has reached saturation."
   ]
  },
  {
   "cell_type": "code",
   "execution_count": null,
   "metadata": {},
   "outputs": [],
   "source": [
    "bounds"
   ]
  },
  {
   "cell_type": "code",
   "execution_count": null,
   "metadata": {
    "scrolled": true,
    "tags": []
   },
   "outputs": [],
   "source": [
    "llb = add_optimize_month(data_dict[country].copy(), data_matrix.copy(), model_opt, col_to_slider=a, budget=3000)"
   ]
  },
  {
   "cell_type": "code",
   "execution_count": null,
   "metadata": {},
   "outputs": [],
   "source": [
    "graph_month(llb, x_opt)"
   ]
  },
  {
   "cell_type": "markdown",
   "metadata": {},
   "source": [
    "***\n",
    "## Exports"
   ]
  },
  {
   "cell_type": "markdown",
   "metadata": {},
   "source": [
    "### One-Month Forecasting"
   ]
  },
  {
   "cell_type": "markdown",
   "metadata": {},
   "source": [
    "Add a unique file name into the string in the next cell, leaving out the file suffix. Then, run the cell after that to get a download link to the forecast. The Excel spreadsheet will have a new column containing the predictions."
   ]
  },
  {
   "cell_type": "code",
   "execution_count": null,
   "metadata": {},
   "outputs": [],
   "source": [
    "unique_file_name = \"SAAS_one_month_fcastA\""
   ]
  },
  {
   "cell_type": "code",
   "execution_count": null,
   "metadata": {},
   "outputs": [],
   "source": [
    "def export_month_forecasting(forecast_output_df, client, unique_file_name):\n",
    "    forecast_output_df.to_excel(unique_file_name + \".xlsx\", index=False)\n",
    "    file = FileLink(unique_file_name + \".xlsx\")\n",
    "    display(file)\n",
    "export_month_forecasting(forecast_output_df, client, unique_file_name)"
   ]
  },
  {
   "cell_type": "markdown",
   "metadata": {},
   "source": [
    "### Optimized Month"
   ]
  },
  {
   "cell_type": "markdown",
   "metadata": {},
   "source": [
    "Run this cell to get a download link to the optimized budget. This cell requires the optimized_budget - month section to be run."
   ]
  },
  {
   "cell_type": "code",
   "execution_count": null,
   "metadata": {},
   "outputs": [],
   "source": [
    "def export_optimized_month(llb, x_opt, client):\n",
    "    name = f\"{client}_optimized_month.xlsx\"\n",
    "    pd.DataFrame(columns=[shorten_f_name(y) for y in x_opt.columns], data=np.array(llb)[:, :len(x_opt.columns)]).to_excel(name, index=False)\n",
    "    file = FileLink(name)\n",
    "    display(file)\n",
    "export_optimized_month(llb, x_opt, client)"
   ]
  },
  {
   "cell_type": "markdown",
   "metadata": {},
   "source": [
    "### Model Coefficients"
   ]
  },
  {
   "cell_type": "markdown",
   "metadata": {},
   "source": [
    "Run this cell to get a download link to the model's coefficients."
   ]
  },
  {
   "cell_type": "code",
   "execution_count": null,
   "metadata": {},
   "outputs": [],
   "source": [
    "def export_model_coefficients(model, client):\n",
    "    name = f\"{client}_model_coefficients.xlsx\"\n",
    "    model_coefficients = dict(zip([shorten_f_name(y) for y in model.feature_names_in_], model.coef_))\n",
    "    pd.DataFrame(data=model_coefficients, index=[0]).to_excel(name, index=False)\n",
    "    file = FileLink(name)\n",
    "    display(file)\n",
    "\n",
    "export_model_coefficients(model, client)"
   ]
  },
  {
   "cell_type": "markdown",
   "metadata": {},
   "source": [
    "This notebook was designed by __[SAAS Berkeley Data Consulting](https://saas.berkeley.edu/)__"
   ]
  }
 ],
 "metadata": {
  "kernelspec": {
   "display_name": "Python 3",
   "language": "python",
   "name": "python3"
  },
  "language_info": {
   "codemirror_mode": {
    "name": "ipython",
    "version": 3
   },
   "file_extension": ".py",
   "mimetype": "text/x-python",
   "name": "python",
   "nbconvert_exporter": "python",
   "pygments_lexer": "ipython3",
   "version": "3.8.3"
  },
  "toc-autonumbering": false,
  "toc-showcode": false,
  "toc-showmarkdowntxt": false,
  "toc-showtags": true
 },
 "nbformat": 4,
 "nbformat_minor": 4
}
