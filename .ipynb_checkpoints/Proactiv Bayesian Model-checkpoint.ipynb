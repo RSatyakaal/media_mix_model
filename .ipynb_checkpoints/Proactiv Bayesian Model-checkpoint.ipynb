{
 "cells": [
  {
   "cell_type": "markdown",
   "metadata": {},
   "source": [
    "## Bayesian Model with Proactiv Data"
   ]
  },
  {
   "cell_type": "code",
   "execution_count": 1,
   "metadata": {},
   "outputs": [],
   "source": [
    "import arviz as az\n",
    "import pymc3 as pm\n",
    "import pandas as pd\n",
    "import numpy as np\n",
    "import matplotlib.pyplot as plt\n",
    "import theano.tensor as tt"
   ]
  },
  {
   "cell_type": "code",
   "execution_count": 2,
   "metadata": {},
   "outputs": [],
   "source": [
    "from arviz.utils import Numba\n",
    "Numba.disable_numba()"
   ]
  },
  {
   "cell_type": "code",
   "execution_count": 3,
   "metadata": {},
   "outputs": [],
   "source": [
    "data = pd.read_csv('original_dataset_proactiv.csv')"
   ]
  },
  {
   "cell_type": "code",
   "execution_count": 4,
   "metadata": {},
   "outputs": [],
   "source": [
    "X = data.iloc[:, :9]\n",
    "y = data['Revenue']"
   ]
  },
  {
   "cell_type": "code",
   "execution_count": 5,
   "metadata": {},
   "outputs": [],
   "source": [
    "def saturate(x, a):\n",
    "    return 1 - tt.exp(-a*x)\n",
    "\n",
    "def carryover(x, strength, length=21):\n",
    "    w = tt.as_tensor_variable(\n",
    "        [tt.power(strength, i) for i in range(length)]\n",
    "    )\n",
    "    \n",
    "    x_lags = tt.stack(\n",
    "        [tt.concatenate([\n",
    "            tt.zeros(i),\n",
    "            x[:x.shape[0]-i]\n",
    "        ]) for i in range(length)]\n",
    "    )\n",
    "    \n",
    "    return tt.dot(w, x_lags)"
   ]
  },
  {
   "cell_type": "code",
   "execution_count": null,
   "metadata": {},
   "outputs": [],
   "source": [
    "with pm.Model() as mmm:\n",
    "    channel_contributions = []\n",
    "    \n",
    "    for channel in X.columns:\n",
    "        coef = pm.Exponential(f'coef_{channel}', lam=0.0001)\n",
    "        sat = pm.Exponential(f'sat_{channel}', lam=1)\n",
    "        car = pm.Beta(f'car_{channel}', alpha=2, beta=2)\n",
    "        \n",
    "        channel_data = X[channel].values\n",
    "        channel_contribution = pm.Deterministic(\n",
    "            f'contribution_{channel}',\n",
    "            coef * saturate(\n",
    "                carryover(\n",
    "                    channel_data,\n",
    "                    car\n",
    "                ),\n",
    "                sat\n",
    "            )\n",
    "        )\n",
    "        \n",
    "        channel_contributions.append(channel_contribution)\n",
    "        \n",
    "    base = pm.Exponential('base', lam=0.0001)\n",
    "    noise = pm.Exponential('noise', lam=0.0001)\n",
    "    \n",
    "    sales = pm.Normal(\n",
    "        'sales',\n",
    "        mu=sum(channel_contributions) + base,\n",
    "        sigma=noise,\n",
    "        observed=y\n",
    "    )\n",
    "    \n",
    "    trace = pm.sample(return_inferencedata=True, tune=3000)"
   ]
  },
  {
   "cell_type": "code",
   "execution_count": null,
   "metadata": {},
   "outputs": [],
   "source": [
    "az.plot_posterior(\n",
    "    trace,\n",
    "    var_names=['~contribution'],\n",
    "    filter_vars='like'\n",
    ")"
   ]
  },
  {
   "cell_type": "code",
   "execution_count": null,
   "metadata": {},
   "outputs": [],
   "source": [
    "with mmm:\n",
    "    posterior = pm.sample_posterior_predictive(trace)\n",
    "means = posterior['sales'].mean(0)\n",
    "stds = posterior['sales'].std(0)\n",
    "plt.figure(figsize=(20, 8))\n",
    "plt.plot(y.values, linewidth=2, c='r', label='Observations')\n",
    "plt.plot(means, linewidth=1, c='b', label='Mean prediction')\n",
    "plt.fill_between(np.arange(len(y)), means - 2*stds, means + 2*stds, alpha=0.33)\n",
    "plt.legend()"
   ]
  },
  {
   "cell_type": "code",
   "execution_count": null,
   "metadata": {},
   "outputs": [],
   "source": [
    "def compute_mean(trace, channel):\n",
    "    return (trace\n",
    "            .posterior[f'contribution_{channel}']\n",
    "            .values\n",
    "            .reshape(4000, 200)\n",
    "            .mean(0)\n",
    "           )\n",
    "channels = ['Banners', 'Radio', 'TV']\n",
    "unadj_contributions = pd.DataFrame(\n",
    "    {'Base': trace.posterior['base'].values.mean()},\n",
    "    index=X.index\n",
    ")\n",
    "for channel in channels:\n",
    "    unadj_contributions[channel] = compute_mean(trace, channel)\n",
    "adj_contributions = (unadj_contributions\n",
    "                     .div(unadj_contributions.sum(axis=1), axis=0)\n",
    "                     .mul(y, axis=0)\n",
    "                    )\n",
    "ax = (adj_contributions\n",
    "      .plot.area(\n",
    "          figsize=(16, 10),\n",
    "          linewidth=1,\n",
    "          title='Predicted Sales and Breakdown',\n",
    "          ylabel='Sales',\n",
    "          xlabel='Date'\n",
    "      )\n",
    "     )\n",
    "    \n",
    "handles, labels = ax.get_legend_handles_labels()\n",
    "ax.legend(\n",
    "    handles[::-1], labels[::-1],\n",
    "    title='Channels', loc=\"center left\",\n",
    "    bbox_to_anchor=(1.01, 0.5)\n",
    ")"
   ]
  },
  {
   "cell_type": "code",
   "execution_count": null,
   "metadata": {},
   "outputs": [],
   "source": []
  }
 ],
 "metadata": {
  "kernelspec": {
   "display_name": "Python 3",
   "language": "python",
   "name": "python3"
  },
  "language_info": {
   "codemirror_mode": {
    "name": "ipython",
    "version": 3
   },
   "file_extension": ".py",
   "mimetype": "text/x-python",
   "name": "python",
   "nbconvert_exporter": "python",
   "pygments_lexer": "ipython3",
   "version": "3.8.3"
  }
 },
 "nbformat": 4,
 "nbformat_minor": 4
}
