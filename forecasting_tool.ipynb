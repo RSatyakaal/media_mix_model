{
 "cells": [
  {
   "cell_type": "code",
   "execution_count": 1,
   "metadata": {},
   "outputs": [
    {
     "name": "stdout",
     "output_type": "stream",
     "text": [
      "Requirement already satisfied: XLsxWriter in /Users/sarangmdeshpande/opt/anaconda3/lib/python3.8/site-packages (1.2.9)\r\n"
     ]
    }
   ],
   "source": [
    "!pip install XLsxWriter"
   ]
  },
  {
   "cell_type": "code",
   "execution_count": 10,
   "metadata": {},
   "outputs": [],
   "source": [
    "import xlsxwriter\n",
    "import re\n",
    "import numpy as np"
   ]
  },
  {
   "cell_type": "markdown",
   "metadata": {},
   "source": [
    "https://xlsxwriter.readthedocs.io/tutorial01.html"
   ]
  },
  {
   "cell_type": "code",
   "execution_count": 64,
   "metadata": {},
   "outputs": [],
   "source": [
    "workbook = xlsxwriter.Workbook('test.xlsx')\n",
    "worksheet = workbook.add_worksheet()"
   ]
  },
  {
   "cell_type": "markdown",
   "metadata": {},
   "source": [
    "inputs"
   ]
  },
  {
   "cell_type": "code",
   "execution_count": 65,
   "metadata": {},
   "outputs": [],
   "source": [
    "media_channels = ['Amazon_MediaCost_alpha=0.1L=2theta=0_power=0.6',\n",
    " 'BingSearch_MediaCost_alpha=0.1L=2theta=0_power=0.1',\n",
    " 'DV360_MediaCost_alpha=0.1L=2theta=0_power=0.6',\n",
    " 'Facebook_MediaCost_alpha=0.9L=24theta=0_power=0.6',\n",
    " 'GoogleSearch_MediaCost_alpha=0.2L=6theta=0_power=0.1',\n",
    " 'Pinterest_MediaCost_alpha=0.1L=2theta=0_power=0.6',\n",
    " 'Radio_MediaCost_alpha=0.1L=2theta=0_power=0.6',\n",
    " 'Snapchat_MediaCost_alpha=0.1L=2theta=0_power=0.6',\n",
    " 'YouTube_MediaCost_alpha=0.5L=2theta=0_power=0.1']"
   ]
  },
  {
   "cell_type": "code",
   "execution_count": 66,
   "metadata": {},
   "outputs": [],
   "source": [
    "row = 6\n",
    "col = 0\n",
    "\n",
    "bold = workbook.add_format({'bold': True})\n",
    "\n",
    "worksheet.write(row, 0, \"Publisher-Tactic\", bold)\n",
    "worksheet.write(row, 1, \"Alpha\", bold)\n",
    "worksheet.write(row, 2, \"Lag\", bold)\n",
    "worksheet.write(row, 3, \"Theta\", bold)\n",
    "worksheet.write(row, 4, \"Power\", bold)\n",
    "\n",
    "for feature in media_channels:\n",
    "    row += 1\n",
    "    \n",
    "    f = re.findall(\"([\\w|\\s]+)_alpha=(\\d.\\d+)L=(\\d+)theta=(\\d+)\", feature)[0] #f = orig_col, alpha, L, theta\n",
    "    f = list(f)\n",
    "    f.append(feature[-3:])\n",
    "    f = [float(f[i]) if i!=0 else f[i] for i in range(len(f))]\n",
    "    \n",
    "    worksheet.write_string(row, col, f[0])\n",
    "    col += 1\n",
    "    \n",
    "    for i in np.arange(1, 5):\n",
    "        worksheet.write_number(row, col, f[i])\n",
    "        col += 1\n",
    "    col = 0\n"
   ]
  },
  {
   "cell_type": "code",
   "execution_count": 67,
   "metadata": {},
   "outputs": [
    {
     "data": {
      "text/plain": [
       "0"
      ]
     },
     "execution_count": 67,
     "metadata": {},
     "output_type": "execute_result"
    }
   ],
   "source": [
    "row = 6\n",
    "col = 5\n",
    "worksheet.write(row, col, \"Spend\", bold)"
   ]
  },
  {
   "cell_type": "code",
   "execution_count": 68,
   "metadata": {},
   "outputs": [],
   "source": [
    "workbook.close()"
   ]
  },
  {
   "cell_type": "code",
   "execution_count": null,
   "metadata": {},
   "outputs": [],
   "source": []
  }
 ],
 "metadata": {
  "kernelspec": {
   "display_name": "Python 3",
   "language": "python",
   "name": "python3"
  },
  "language_info": {
   "codemirror_mode": {
    "name": "ipython",
    "version": 3
   },
   "file_extension": ".py",
   "mimetype": "text/x-python",
   "name": "python",
   "nbconvert_exporter": "python",
   "pygments_lexer": "ipython3",
   "version": "3.8.3"
  }
 },
 "nbformat": 4,
 "nbformat_minor": 4
}
