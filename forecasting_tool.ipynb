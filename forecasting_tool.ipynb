{
 "cells": [
  {
   "cell_type": "code",
   "execution_count": 119,
   "metadata": {},
   "outputs": [
    {
     "name": "stdout",
     "output_type": "stream",
     "text": [
      "Requirement already satisfied: XLsxWriter in /Users/sarangmdeshpande/opt/anaconda3/lib/python3.8/site-packages (1.2.9)\r\n"
     ]
    }
   ],
   "source": [
    "!pip install XLsxWriter"
   ]
  },
  {
   "cell_type": "code",
   "execution_count": 120,
   "metadata": {},
   "outputs": [],
   "source": [
    "import xlsxwriter\n",
    "import re\n",
    "import numpy as np\n",
    "import pandas as pd"
   ]
  },
  {
   "cell_type": "markdown",
   "metadata": {},
   "source": [
    "## Attribution Table Functions"
   ]
  },
  {
   "cell_type": "code",
   "execution_count": 121,
   "metadata": {},
   "outputs": [],
   "source": [
    "def attribution_table(orig_df, transformed_df, model):\n",
    "    model_coefs = model.coef_\n",
    "    \n",
    "    workbook = xlsxwriter.Workbook('test.xlsx')\n",
    "    worksheet = workbook.add_worksheet()\n",
    "    \n",
    "    media_channels = transformed_df.columns.tolist()[:len(model_coefs)]\n",
    "    \n",
    "    write_parameters(media_channels, workbook, worksheet)\n",
    "    write_revenue_change(media_channels, transformed_df, workbook, worksheet)\n",
    "    write_spending_and_attribution(media_channels, orig_df, workbook, worksheet)\n",
    "    \n",
    "    workbook.close()"
   ]
  },
  {
   "cell_type": "code",
   "execution_count": 122,
   "metadata": {},
   "outputs": [],
   "source": [
    "def write_parameters(media_channels, workbook, worksheet):\n",
    "    row = 6\n",
    "    col = 0\n",
    "    \n",
    "    bold = workbook.add_format({'bold': True})\n",
    "\n",
    "    worksheet.write(row, 0, \"Publisher-Tactic\", bold)\n",
    "    worksheet.write(row, 1, \"Alpha\", bold)\n",
    "    worksheet.write(row, 2, \"Lag\", bold)\n",
    "    worksheet.write(row, 3, \"Theta\", bold)\n",
    "    worksheet.write(row, 4, \"Power\", bold)\n",
    "\n",
    "    for feature in media_channels:\n",
    "        row += 1\n",
    "\n",
    "        f = re.findall(\"([\\w|\\s]+)_alpha=(\\d.\\d+)L=(\\d+)theta=(\\d+)\", feature)[0] #f = orig_col, alpha, L, theta\n",
    "        f = list(f)\n",
    "        f.append(feature[-3:])\n",
    "        f = [float(f[i]) if i!=0 else f[i] for i in range(len(f))]\n",
    "\n",
    "        worksheet.write_string(row, col, f[0])\n",
    "        col += 1\n",
    "\n",
    "        for i in np.arange(1, 5):\n",
    "            worksheet.write_number(row, col, f[i])\n",
    "            col += 1\n",
    "        col = 0"
   ]
  },
  {
   "cell_type": "code",
   "execution_count": 123,
   "metadata": {},
   "outputs": [],
   "source": [
    "def write_revenue_change(media_channels, transformed_df, workbook, worksheet):\n",
    "    row = label_row\n",
    "    col = 5\n",
    "    worksheet.write(row, col, \"Channel Attributed Revenue\", bold)\n",
    "    row += 1\n",
    "    \n",
    "    for i in range(len(media_channels)):\n",
    "        df_copy = transformed_df.copy()\n",
    "        df_copy.loc[:, media_channels[i]] = 0\n",
    "        pred_revenue_no_channel = []\n",
    "        pred_revenue_with_channel = []\n",
    "        for j in range(len(transformed_df)):\n",
    "            no_channel_spending = np.array(df_copy.iloc[j,:len(media_channels)])\n",
    "            all_channel_spending = np.array(transformed_df.iloc[j,:len(media_channels)])\n",
    "            coefs = np.array(model_coefs)\n",
    "            pred_revenue_no_channel.append(np.dot(no_channel_spending, coefs))\n",
    "            pred_revenue_with_channel.append(np.dot(all_channel_spending, coefs))\n",
    "        revenue_change = sum(pred_revenue_with_channel) - sum(pred_revenue_no_channel)\n",
    "        worksheet.write_number(row, col, revenue_change)\n",
    "        row += 1"
   ]
  },
  {
   "cell_type": "code",
   "execution_count": 124,
   "metadata": {},
   "outputs": [],
   "source": [
    "def write_spending_and_attribution(media_channels, orig_df, workbook, worksheet):\n",
    "    row = label_row\n",
    "    col = 6\n",
    "    worksheet.write(row, col, \"Channel Spending\", bold)\n",
    "    row += 1\n",
    "    \n",
    "    for i in range(len(media_channels)):\n",
    "        channel_spending = sum(orig_df.iloc[:,i])\n",
    "        worksheet.write(row, col, channel_spending)\n",
    "        row += 1\n",
    "        \n",
    "    row = label_row\n",
    "    col += 1\n",
    "    worksheet.write(row, col, \"Attribution\", bold)\n",
    "    row += 1\n",
    "    \n",
    "    for i in range(len(media_channels)):\n",
    "        worksheet.write_formula('H{}'.format(row + i + 1), '=F{}/G{}'.format(row + i + 1, row + i + 1))"
   ]
  },
  {
   "cell_type": "markdown",
   "metadata": {},
   "source": [
    "## Test Attribution Functions"
   ]
  },
  {
   "cell_type": "code",
   "execution_count": 125,
   "metadata": {},
   "outputs": [],
   "source": [
    "orig_df = pd.read_csv('original_dataset_proactiv.csv')\n",
    "transformed_df = pd.read_csv('transformed_dataset_proactiv.csv')"
   ]
  },
  {
   "cell_type": "code",
   "execution_count": 126,
   "metadata": {},
   "outputs": [],
   "source": [
    "model_coefs = [2.46538171e+01, 1.03919203e+02, 0.00000000e+00, 6.26124244e+01,\n",
    "       1.68132077e+02, 5.88054997e+01, 3.97262842e+00, 0.00000000e+00,\n",
    "       8.71137860e+03]"
   ]
  },
  {
   "cell_type": "code",
   "execution_count": 127,
   "metadata": {},
   "outputs": [],
   "source": [
    "attribution_table(orig_df, transformed_df, model_coefs)"
   ]
  },
  {
   "cell_type": "markdown",
   "metadata": {},
   "source": [
    "## Debugging Notebook"
   ]
  },
  {
   "cell_type": "code",
   "execution_count": 58,
   "metadata": {},
   "outputs": [],
   "source": [
    "label_row = 6"
   ]
  },
  {
   "cell_type": "markdown",
   "metadata": {},
   "source": [
    "https://xlsxwriter.readthedocs.io/tutorial01.html"
   ]
  },
  {
   "cell_type": "code",
   "execution_count": 60,
   "metadata": {},
   "outputs": [],
   "source": [
    "workbook = xlsxwriter.Workbook('test.xlsx')\n",
    "worksheet = workbook.add_worksheet()"
   ]
  },
  {
   "cell_type": "markdown",
   "metadata": {},
   "source": [
    "inputs"
   ]
  },
  {
   "cell_type": "code",
   "execution_count": 61,
   "metadata": {},
   "outputs": [
    {
     "data": {
      "text/plain": [
       "['Amazon_MediaCost_alpha=0.1L=2theta=0_power=0.6',\n",
       " 'BingSearch_MediaCost_alpha=0.1L=2theta=0_power=0.1',\n",
       " 'DV360_MediaCost_alpha=0.1L=2theta=0_power=0.6',\n",
       " 'Facebook_MediaCost_alpha=0.9L=20theta=0_power=0.6',\n",
       " 'GoogleSearch_MediaCost_alpha=0.6L=10theta=0_power=0.1',\n",
       " 'Pinterest_MediaCost_alpha=0.1L=2theta=0_power=0.6',\n",
       " 'Radio_MediaCost_alpha=0.1L=2theta=0_power=0.6',\n",
       " 'Snapchat_MediaCost_alpha=0.1L=2theta=0_power=0.6',\n",
       " 'YouTube_MediaCost_alpha=0.9L=6theta=0_power=0.1']"
      ]
     },
     "execution_count": 61,
     "metadata": {},
     "output_type": "execute_result"
    }
   ],
   "source": [
    "media_channels = transformed_df.columns.tolist()[:len(model_coefs)]\n",
    "media_channels"
   ]
  },
  {
   "cell_type": "code",
   "execution_count": 62,
   "metadata": {},
   "outputs": [],
   "source": [
    "row = label_row\n",
    "col = 0\n",
    "\n",
    "bold = workbook.add_format({'bold': True})\n",
    "\n",
    "worksheet.write(row, 0, \"Publisher-Tactic\", bold)\n",
    "worksheet.write(row, 1, \"Alpha\", bold)\n",
    "worksheet.write(row, 2, \"Lag\", bold)\n",
    "worksheet.write(row, 3, \"Theta\", bold)\n",
    "worksheet.write(row, 4, \"Power\", bold)\n",
    "\n",
    "for feature in media_channels:\n",
    "    row += 1\n",
    "    \n",
    "    f = re.findall(\"([\\w|\\s]+)_alpha=(\\d.\\d+)L=(\\d+)theta=(\\d+)\", feature)[0] #f = orig_col, alpha, L, theta\n",
    "    f = list(f)\n",
    "    f.append(feature[-3:])\n",
    "    f = [float(f[i]) if i!=0 else f[i] for i in range(len(f))]\n",
    "    \n",
    "    worksheet.write_string(row, col, f[0])\n",
    "    col += 1\n",
    "    \n",
    "    for i in np.arange(1, 5):\n",
    "        worksheet.write_number(row, col, f[i])\n",
    "        col += 1\n",
    "    col = 0\n"
   ]
  },
  {
   "cell_type": "code",
   "execution_count": 63,
   "metadata": {},
   "outputs": [],
   "source": [
    "row = label_row\n",
    "col = 5\n",
    "worksheet.write(row, col, \"Channel Attributed Revenue\", bold)\n",
    "row += 1"
   ]
  },
  {
   "cell_type": "code",
   "execution_count": 64,
   "metadata": {},
   "outputs": [],
   "source": [
    "for i in range(len(media_channels)):\n",
    "    df_copy = transformed_df.copy()\n",
    "    df_copy.loc[:, media_channels[i]] = 0\n",
    "    pred_revenue_no_channel = []\n",
    "    pred_revenue_with_channel = []\n",
    "    for j in range(len(transformed_df)):\n",
    "        no_channel_spending = np.array(df_copy.iloc[j,:len(media_channels)])\n",
    "        all_channel_spending = np.array(transformed_df.iloc[j,:len(media_channels)])\n",
    "        coefs = np.array(model_coefs)\n",
    "        pred_revenue_no_channel.append(np.dot(no_channel_spending, coefs))\n",
    "        pred_revenue_with_channel.append(np.dot(all_channel_spending, coefs))\n",
    "    revenue_change = sum(pred_revenue_with_channel) - sum(pred_revenue_no_channel)\n",
    "    worksheet.write_number(row, col, revenue_change)\n",
    "    row += 1    "
   ]
  },
  {
   "cell_type": "code",
   "execution_count": 65,
   "metadata": {},
   "outputs": [],
   "source": [
    "row = label_row\n",
    "col += 1\n",
    "worksheet.write(row, col, \"Channel Spending\", bold)\n",
    "row += 1"
   ]
  },
  {
   "cell_type": "code",
   "execution_count": 66,
   "metadata": {},
   "outputs": [],
   "source": [
    "for i in range(len(media_channels)):\n",
    "    channel_spending = sum(orig_df.iloc[:,i])\n",
    "    worksheet.write(row, col, channel_spending)\n",
    "    row += 1"
   ]
  },
  {
   "cell_type": "code",
   "execution_count": 67,
   "metadata": {},
   "outputs": [],
   "source": [
    "row = label_row\n",
    "col += 1\n",
    "worksheet.write(row, col, \"Attribution\", bold)\n",
    "row += 1"
   ]
  },
  {
   "cell_type": "code",
   "execution_count": 68,
   "metadata": {},
   "outputs": [],
   "source": [
    "for i in range(len(media_channels)):\n",
    "    worksheet.write_formula('H{}'.format(row + i + 1), '=F{}/G{}'.format(row + i + 1, row + i + 1))"
   ]
  },
  {
   "cell_type": "code",
   "execution_count": 69,
   "metadata": {},
   "outputs": [],
   "source": [
    "workbook.close()"
   ]
  },
  {
   "cell_type": "code",
   "execution_count": null,
   "metadata": {},
   "outputs": [],
   "source": []
  }
 ],
 "metadata": {
  "kernelspec": {
   "display_name": "Python 3",
   "language": "python",
   "name": "python3"
  },
  "language_info": {
   "codemirror_mode": {
    "name": "ipython",
    "version": 3
   },
   "file_extension": ".py",
   "mimetype": "text/x-python",
   "name": "python",
   "nbconvert_exporter": "python",
   "pygments_lexer": "ipython3",
   "version": "3.8.3"
  }
 },
 "nbformat": 4,
 "nbformat_minor": 4
}
