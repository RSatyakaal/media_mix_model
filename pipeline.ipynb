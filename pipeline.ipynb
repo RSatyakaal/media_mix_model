{
 "cells": [
  {
   "cell_type": "markdown",
   "metadata": {},
   "source": [
    "# SAAS <> Media Matters Worldwide Media Mix Model and Budget Optimizer"
   ]
  },
  {
   "cell_type": "markdown",
   "metadata": {},
   "source": [
    "This notebook contains a media mix model, created from methods similar to __[this paper](https://static.googleusercontent.com/media/research.google.com/en//pubs/archive/46001.pdf)__. The model informs a budget optimizer, which optimizes the budget for spending in advertising media channels in the short-term."
   ]
  },
  {
   "cell_type": "markdown",
   "metadata": {},
   "source": [
    "There are 4 sections in this notebook.\n",
    "\n",
    "1. [Data Collection](#data-collection)\n",
    "2. [Data Preprocessing](#data-preprocessing)\n",
    "3. [Modeling](#modeling)\n",
    "4. [Optimization](#optimize)"
   ]
  },
  {
   "cell_type": "markdown",
   "metadata": {},
   "source": [
    "> Run a notebook-cell by clicking a cell and pressing ctrl-enter (windows) or  (equivalent on mac). Alternatively, after selecting a cell, hit the play button in the navigation bar at the top\n",
    "\n",
    "> Don't modify the code in any cell unless explicitly prompted to do so.     "
   ]
  },
  {
   "cell_type": "markdown",
   "metadata": {},
   "source": [
    "***"
   ]
  },
  {
   "cell_type": "markdown",
   "metadata": {},
   "source": [
    "Replace the `client` variable with the client's name. The client's name should be surrounded by double quotations."
   ]
  },
  {
   "cell_type": "code",
   "execution_count": 32,
   "metadata": {},
   "outputs": [],
   "source": [
    "client = \"Proactiv\""
   ]
  },
  {
   "cell_type": "markdown",
   "metadata": {},
   "source": [
    "Run the following three cells to import the necessary packages"
   ]
  },
  {
   "cell_type": "code",
   "execution_count": 33,
   "metadata": {},
   "outputs": [],
   "source": [
    "import warnings\n",
    "warnings.filterwarnings(action='ignore')"
   ]
  },
  {
   "cell_type": "code",
   "execution_count": 41,
   "metadata": {},
   "outputs": [
    {
     "ename": "ImportError",
     "evalue": "cannot import name 'TypeGuard' from 'typing_extensions' (/Users/sarangmdeshpande/opt/anaconda3/lib/python3.8/site-packages/typing_extensions.py)",
     "output_type": "error",
     "traceback": [
      "\u001b[0;31m---------------------------------------------------------------------------\u001b[0m",
      "\u001b[0;31mImportError\u001b[0m                               Traceback (most recent call last)",
      "\u001b[0;32m<ipython-input-41-49ada27eeab2>\u001b[0m in \u001b[0;36m<module>\u001b[0;34m\u001b[0m\n\u001b[1;32m     36\u001b[0m \u001b[0;32mimport\u001b[0m \u001b[0mholidays\u001b[0m\u001b[0;34m\u001b[0m\u001b[0;34m\u001b[0m\u001b[0m\n\u001b[1;32m     37\u001b[0m \u001b[0;34m\u001b[0m\u001b[0m\n\u001b[0;32m---> 38\u001b[0;31m \u001b[0;32mimport\u001b[0m \u001b[0mpanel\u001b[0m \u001b[0;32mas\u001b[0m \u001b[0mpn\u001b[0m\u001b[0;34m\u001b[0m\u001b[0;34m\u001b[0m\u001b[0m\n\u001b[0m\u001b[1;32m     39\u001b[0m \u001b[0mpn\u001b[0m\u001b[0;34m.\u001b[0m\u001b[0mextension\u001b[0m\u001b[0;34m(\u001b[0m\u001b[0;34m)\u001b[0m\u001b[0;34m\u001b[0m\u001b[0;34m\u001b[0m\u001b[0m\n",
      "\u001b[0;32m~/opt/anaconda3/lib/python3.8/site-packages/panel/__init__.py\u001b[0m in \u001b[0;36m<module>\u001b[0;34m\u001b[0m\n\u001b[0;32m----> 1\u001b[0;31m \u001b[0;32mfrom\u001b[0m \u001b[0;34m.\u001b[0m \u001b[0;32mimport\u001b[0m \u001b[0mlayout\u001b[0m \u001b[0;31m# noqa\u001b[0m\u001b[0;34m\u001b[0m\u001b[0;34m\u001b[0m\u001b[0m\n\u001b[0m\u001b[1;32m      2\u001b[0m \u001b[0;32mfrom\u001b[0m \u001b[0;34m.\u001b[0m \u001b[0;32mimport\u001b[0m \u001b[0mlinks\u001b[0m \u001b[0;31m# noqa\u001b[0m\u001b[0;34m\u001b[0m\u001b[0;34m\u001b[0m\u001b[0m\n\u001b[1;32m      3\u001b[0m \u001b[0;32mfrom\u001b[0m \u001b[0;34m.\u001b[0m \u001b[0;32mimport\u001b[0m \u001b[0mpane\u001b[0m \u001b[0;31m# noqa\u001b[0m\u001b[0;34m\u001b[0m\u001b[0;34m\u001b[0m\u001b[0m\n\u001b[1;32m      4\u001b[0m \u001b[0;32mfrom\u001b[0m \u001b[0;34m.\u001b[0m \u001b[0;32mimport\u001b[0m \u001b[0mparam\u001b[0m \u001b[0;31m# noqa\u001b[0m\u001b[0;34m\u001b[0m\u001b[0;34m\u001b[0m\u001b[0m\n\u001b[1;32m      5\u001b[0m \u001b[0;32mfrom\u001b[0m \u001b[0;34m.\u001b[0m \u001b[0;32mimport\u001b[0m \u001b[0mpipeline\u001b[0m \u001b[0;31m# noqa\u001b[0m\u001b[0;34m\u001b[0m\u001b[0;34m\u001b[0m\u001b[0m\n",
      "\u001b[0;32m~/opt/anaconda3/lib/python3.8/site-packages/panel/layout/__init__.py\u001b[0m in \u001b[0;36m<module>\u001b[0;34m\u001b[0m\n\u001b[0;32m----> 1\u001b[0;31m \u001b[0;32mfrom\u001b[0m \u001b[0;34m.\u001b[0m\u001b[0maccordion\u001b[0m \u001b[0;32mimport\u001b[0m \u001b[0mAccordion\u001b[0m \u001b[0;31m# noqa\u001b[0m\u001b[0;34m\u001b[0m\u001b[0;34m\u001b[0m\u001b[0m\n\u001b[0m\u001b[1;32m      2\u001b[0m \u001b[0;32mfrom\u001b[0m \u001b[0;34m.\u001b[0m\u001b[0mbase\u001b[0m \u001b[0;32mimport\u001b[0m \u001b[0mColumn\u001b[0m\u001b[0;34m,\u001b[0m \u001b[0mListLike\u001b[0m\u001b[0;34m,\u001b[0m \u001b[0mListPanel\u001b[0m\u001b[0;34m,\u001b[0m \u001b[0mPanel\u001b[0m\u001b[0;34m,\u001b[0m \u001b[0mRow\u001b[0m\u001b[0;34m,\u001b[0m \u001b[0mWidgetBox\u001b[0m \u001b[0;31m# noqa\u001b[0m\u001b[0;34m\u001b[0m\u001b[0;34m\u001b[0m\u001b[0m\n\u001b[1;32m      3\u001b[0m \u001b[0;32mfrom\u001b[0m \u001b[0;34m.\u001b[0m\u001b[0mcard\u001b[0m \u001b[0;32mimport\u001b[0m \u001b[0mCard\u001b[0m \u001b[0;31m# noqa\u001b[0m\u001b[0;34m\u001b[0m\u001b[0;34m\u001b[0m\u001b[0m\n\u001b[1;32m      4\u001b[0m \u001b[0;32mfrom\u001b[0m \u001b[0;34m.\u001b[0m\u001b[0mflex\u001b[0m \u001b[0;32mimport\u001b[0m \u001b[0mFlexBox\u001b[0m \u001b[0;31m# noqa\u001b[0m\u001b[0;34m\u001b[0m\u001b[0;34m\u001b[0m\u001b[0m\n\u001b[1;32m      5\u001b[0m \u001b[0;32mfrom\u001b[0m \u001b[0;34m.\u001b[0m\u001b[0mgrid\u001b[0m \u001b[0;32mimport\u001b[0m \u001b[0mGridBox\u001b[0m\u001b[0;34m,\u001b[0m \u001b[0mGridSpec\u001b[0m \u001b[0;31m# noqa\u001b[0m\u001b[0;34m\u001b[0m\u001b[0;34m\u001b[0m\u001b[0m\n",
      "\u001b[0;32m~/opt/anaconda3/lib/python3.8/site-packages/panel/layout/accordion.py\u001b[0m in \u001b[0;36m<module>\u001b[0;34m\u001b[0m\n\u001b[1;32m      1\u001b[0m \u001b[0;32mimport\u001b[0m \u001b[0mparam\u001b[0m\u001b[0;34m\u001b[0m\u001b[0;34m\u001b[0m\u001b[0m\n\u001b[1;32m      2\u001b[0m \u001b[0;34m\u001b[0m\u001b[0m\n\u001b[0;32m----> 3\u001b[0;31m \u001b[0;32mfrom\u001b[0m \u001b[0mbokeh\u001b[0m\u001b[0;34m.\u001b[0m\u001b[0mmodels\u001b[0m \u001b[0;32mimport\u001b[0m \u001b[0mColumn\u001b[0m \u001b[0;32mas\u001b[0m \u001b[0mBkColumn\u001b[0m\u001b[0;34m,\u001b[0m \u001b[0mCustomJS\u001b[0m\u001b[0;34m\u001b[0m\u001b[0;34m\u001b[0m\u001b[0m\n\u001b[0m\u001b[1;32m      4\u001b[0m \u001b[0;34m\u001b[0m\u001b[0m\n\u001b[1;32m      5\u001b[0m \u001b[0;32mfrom\u001b[0m \u001b[0;34m.\u001b[0m\u001b[0mbase\u001b[0m \u001b[0;32mimport\u001b[0m \u001b[0mNamedListPanel\u001b[0m\u001b[0;34m\u001b[0m\u001b[0;34m\u001b[0m\u001b[0m\n",
      "\u001b[0;32m~/opt/anaconda3/lib/python3.8/site-packages/bokeh/models/__init__.py\u001b[0m in \u001b[0;36m<module>\u001b[0;34m\u001b[0m\n\u001b[1;32m     31\u001b[0m \u001b[0;34m\u001b[0m\u001b[0m\n\u001b[1;32m     32\u001b[0m \u001b[0;31m# Bokeh imports\u001b[0m\u001b[0;34m\u001b[0m\u001b[0;34m\u001b[0m\u001b[0;34m\u001b[0m\u001b[0m\n\u001b[0;32m---> 33\u001b[0;31m \u001b[0;32mfrom\u001b[0m \u001b[0;34m.\u001b[0m\u001b[0;34m.\u001b[0m\u001b[0mcore\u001b[0m\u001b[0;34m.\u001b[0m\u001b[0mproperty\u001b[0m\u001b[0;34m.\u001b[0m\u001b[0mdataspec\u001b[0m \u001b[0;32mimport\u001b[0m \u001b[0mexpr\u001b[0m\u001b[0;34m,\u001b[0m \u001b[0mfield\u001b[0m\u001b[0;34m,\u001b[0m \u001b[0mvalue\u001b[0m  \u001b[0;31m# Legacy API\u001b[0m\u001b[0;34m\u001b[0m\u001b[0;34m\u001b[0m\u001b[0m\n\u001b[0m\u001b[1;32m     34\u001b[0m \u001b[0;32mfrom\u001b[0m \u001b[0;34m.\u001b[0m\u001b[0;34m.\u001b[0m\u001b[0mmodel\u001b[0m \u001b[0;32mimport\u001b[0m \u001b[0mModel\u001b[0m\u001b[0;34m\u001b[0m\u001b[0;34m\u001b[0m\u001b[0m\n\u001b[1;32m     35\u001b[0m \u001b[0;32mfrom\u001b[0m \u001b[0;34m.\u001b[0m\u001b[0mannotations\u001b[0m \u001b[0;32mimport\u001b[0m \u001b[0;34m*\u001b[0m\u001b[0;34m\u001b[0m\u001b[0;34m\u001b[0m\u001b[0m\n",
      "\u001b[0;32m~/opt/anaconda3/lib/python3.8/site-packages/bokeh/core/property/dataspec.py\u001b[0m in \u001b[0;36m<module>\u001b[0;34m\u001b[0m\n\u001b[1;32m     30\u001b[0m \u001b[0;32mfrom\u001b[0m \u001b[0;34m...\u001b[0m \u001b[0;32mimport\u001b[0m \u001b[0mcolors\u001b[0m\u001b[0;34m\u001b[0m\u001b[0;34m\u001b[0m\u001b[0m\n\u001b[1;32m     31\u001b[0m \u001b[0;32mfrom\u001b[0m \u001b[0;34m...\u001b[0m\u001b[0mutil\u001b[0m\u001b[0;34m.\u001b[0m\u001b[0mdeprecation\u001b[0m \u001b[0;32mimport\u001b[0m \u001b[0mdeprecated\u001b[0m\u001b[0;34m\u001b[0m\u001b[0;34m\u001b[0m\u001b[0m\n\u001b[0;32m---> 32\u001b[0;31m \u001b[0;32mfrom\u001b[0m \u001b[0;34m...\u001b[0m\u001b[0mutil\u001b[0m\u001b[0;34m.\u001b[0m\u001b[0mserialization\u001b[0m \u001b[0;32mimport\u001b[0m \u001b[0mconvert_datetime_type\u001b[0m\u001b[0;34m,\u001b[0m \u001b[0mconvert_timedelta_type\u001b[0m\u001b[0;34m\u001b[0m\u001b[0;34m\u001b[0m\u001b[0m\n\u001b[0m\u001b[1;32m     33\u001b[0m \u001b[0;32mfrom\u001b[0m \u001b[0;34m...\u001b[0m\u001b[0mutil\u001b[0m\u001b[0;34m.\u001b[0m\u001b[0mstring\u001b[0m \u001b[0;32mimport\u001b[0m \u001b[0mnice_join\u001b[0m\u001b[0;34m\u001b[0m\u001b[0;34m\u001b[0m\u001b[0m\n\u001b[1;32m     34\u001b[0m \u001b[0;32mfrom\u001b[0m \u001b[0;34m.\u001b[0m\u001b[0;34m.\u001b[0m \u001b[0;32mimport\u001b[0m \u001b[0menums\u001b[0m\u001b[0;34m\u001b[0m\u001b[0;34m\u001b[0m\u001b[0m\n",
      "\u001b[0;32m~/opt/anaconda3/lib/python3.8/site-packages/bokeh/util/serialization.py\u001b[0m in \u001b[0;36m<module>\u001b[0;34m\u001b[0m\n\u001b[1;32m     49\u001b[0m \u001b[0;31m# External imports\u001b[0m\u001b[0;34m\u001b[0m\u001b[0;34m\u001b[0m\u001b[0;34m\u001b[0m\u001b[0m\n\u001b[1;32m     50\u001b[0m \u001b[0;32mimport\u001b[0m \u001b[0mnumpy\u001b[0m \u001b[0;32mas\u001b[0m \u001b[0mnp\u001b[0m\u001b[0;34m\u001b[0m\u001b[0;34m\u001b[0m\u001b[0m\n\u001b[0;32m---> 51\u001b[0;31m \u001b[0;32mfrom\u001b[0m \u001b[0mtyping_extensions\u001b[0m \u001b[0;32mimport\u001b[0m \u001b[0mLiteral\u001b[0m\u001b[0;34m,\u001b[0m \u001b[0mTypedDict\u001b[0m\u001b[0;34m,\u001b[0m \u001b[0mTypeGuard\u001b[0m\u001b[0;34m\u001b[0m\u001b[0;34m\u001b[0m\u001b[0m\n\u001b[0m\u001b[1;32m     52\u001b[0m \u001b[0;34m\u001b[0m\u001b[0m\n\u001b[1;32m     53\u001b[0m \u001b[0;32mif\u001b[0m \u001b[0mTYPE_CHECKING\u001b[0m\u001b[0;34m:\u001b[0m\u001b[0;34m\u001b[0m\u001b[0;34m\u001b[0m\u001b[0m\n",
      "\u001b[0;31mImportError\u001b[0m: cannot import name 'TypeGuard' from 'typing_extensions' (/Users/sarangmdeshpande/opt/anaconda3/lib/python3.8/site-packages/typing_extensions.py)"
     ]
    }
   ],
   "source": [
    "import pandas as pd\n",
    "import numpy as np\n",
    "import matplotlib.pyplot as plt\n",
    "import seaborn as sns\n",
    "import sklearn\n",
    "\n",
    "from sklearn.linear_model import LinearRegression\n",
    "from sklearn.linear_model import RidgeCV, Ridge, Lasso\n",
    "from sklearn.model_selection import train_test_split\n",
    "from sklearn.model_selection import KFold\n",
    "from sklearn.ensemble import RandomForestRegressor\n",
    "from sklearn.model_selection import train_test_split\n",
    "from sklearn.metrics import explained_variance_score, mean_squared_error, r2_score \n",
    "from sklearn.metrics import mean_absolute_percentage_error\n",
    "from sklearn.preprocessing import StandardScaler\n",
    "\n",
    "from datetime import datetime as dt\n",
    "from functools import reduce\n",
    "from yellowbrick.regressor import residuals_plot\n",
    "from transformations import transform_one_column, select_best_feature, feature_imp_random_forest\n",
    "\n",
    "import time\n",
    "import datetime\n",
    "import ipywidgets as widgets\n",
    "from ipywidgets import FileUpload\n",
    "\n",
    "from IPython.display import display\n",
    "from IPython.display import FileLink\n",
    "import io\n",
    "import re\n",
    "from scipy.optimize import minimize, LinearConstraint\n",
    "\n",
    "import openpyxl\n",
    "import xlrd\n",
    "\n",
    "import holidays\n",
    "\n",
    "import panel as pn\n",
    "pn.extension()"
   ]
  },
  {
   "cell_type": "code",
   "execution_count": 35,
   "metadata": {},
   "outputs": [],
   "source": [
    "from helper import *"
   ]
  },
  {
   "cell_type": "code",
   "execution_count": 36,
   "metadata": {
    "tags": []
   },
   "outputs": [],
   "source": [
    "# COMMANDS I RAN TO GET FILEUPLOAD AND JUPYTERWIDGETS TO LOAD\n",
    "# !jupyter nbextension enable --py widgetsnbextension\n",
    "# !pip install jupyterlab-widgets\n",
    "# !jupyter labextension install @jupyter-widgets/jupyterlab-manager\n",
    "# uf = upload.value[list(upload.value.keys())[0]]['content']"
   ]
  },
  {
   "cell_type": "markdown",
   "metadata": {},
   "source": [
    "***"
   ]
  },
  {
   "cell_type": "markdown",
   "metadata": {
    "tags": []
   },
   "source": [
    "<a id=\"data-collection\"></a> \n",
    "# Data Collection"
   ]
  },
  {
   "cell_type": "markdown",
   "metadata": {},
   "source": [
    "<div class=\"alert alert-block alert-info\">\n",
    "<b>Note: </b>The notebook is only compatible with two file formats: .csv and .xlsx.</div>"
   ]
  },
  {
   "cell_type": "markdown",
   "metadata": {},
   "source": [
    "## 1A: Input Data - Sales"
   ]
  },
  {
   "cell_type": "markdown",
   "metadata": {},
   "source": [
    "Set the `use_excel` variable in the next cell to `False` if you are inputting a `.csv` file; if you are inputting a `xlsx`, leave as `True` .\n",
    "Set the `granularity` variable in the next cell to `False` if the granularity (what each row in the data represents) is weekly; if daily, leave as `True`.\n",
    "> The granularity of the sales data must be the same as the granularity of the advertising mix data"
   ]
  },
  {
   "cell_type": "code",
   "execution_count": 37,
   "metadata": {},
   "outputs": [],
   "source": [
    "use_excel = True\n",
    "granularity = True\n",
    "data_type = \"SALES DATA\""
   ]
  },
  {
   "cell_type": "markdown",
   "metadata": {},
   "source": [
    "***"
   ]
  },
  {
   "cell_type": "markdown",
   "metadata": {},
   "source": [
    "### step 1: attach file"
   ]
  },
  {
   "cell_type": "markdown",
   "metadata": {},
   "source": [
    "The next cell will take you through the steps to input the data. Don't modify any of the parameters (`data_type` and `use_excel`) in the cell.\n",
    "After running the cell, an *Upload* Button will pop up. Click the *Upload* Button, navigate to the folder on your computer that contains the sales data, and attach the proper file. Once you upload the *sales data*, the number next to *Upload* should change from 0 to 1. If so, proceed by running the next cell.\n",
    "\n",
    "> The *Upload* widget will only recognize and look for .csv or .xlsx formats."
   ]
  },
  {
   "cell_type": "code",
   "execution_count": 40,
   "metadata": {},
   "outputs": [
    {
     "data": {
      "application/vnd.jupyter.widget-view+json": {
       "model_id": "dcd390d539de416782ff079cecc65372",
       "version_major": 2,
       "version_minor": 0
      },
      "text/plain": [
       "FileUpload(value={}, accept='.xlsx', description='Upload')"
      ]
     },
     "metadata": {},
     "output_type": "display_data"
    }
   ],
   "source": [
    "df_as_bytes = input_file(data_type, use_excel=use_excel)"
   ]
  },
  {
   "cell_type": "markdown",
   "metadata": {},
   "source": [
    "***"
   ]
  },
  {
   "cell_type": "markdown",
   "metadata": {},
   "source": [
    "### step 2: parse sales data"
   ]
  },
  {
   "cell_type": "markdown",
   "metadata": {},
   "source": [
    "Now that you've attached the sales data, the notebook will need to parse the data from the *Upload* Button. \n",
    "After running the cell, the notebook will display the sales data in a table. \n",
    "The following cell will ask you the following questions regarding the format of the data.\n",
    "\n",
    "1. Is the header, as displayed, of the dataframe correct? [y/n] If no, which row contains the header (zero-indexed)?\n",
    "2. Is the SALES DATA file good to go? [y/n]\n",
    "\n",
    "`y` corresponds to yes, and `n` corresponds to no. `zero-indexed` is a way of numbering in which the initial element of a sequence is assigned the index 0, rather than 1."
   ]
  },
  {
   "cell_type": "code",
   "execution_count": 39,
   "metadata": {},
   "outputs": [
    {
     "ename": "AssertionError",
     "evalue": "PLEASE go back and run the above CELL",
     "output_type": "error",
     "traceback": [
      "\u001b[0;31m---------------------------------------------------------------------------\u001b[0m",
      "\u001b[0;31mAssertionError\u001b[0m                            Traceback (most recent call last)",
      "\u001b[0;32m<ipython-input-39-40519dc60fa6>\u001b[0m in \u001b[0;36m<module>\u001b[0;34m\u001b[0m\n\u001b[0;32m----> 1\u001b[0;31m \u001b[0msales_df\u001b[0m \u001b[0;34m=\u001b[0m \u001b[0mparse_file\u001b[0m\u001b[0;34m(\u001b[0m\u001b[0mdf_as_bytes\u001b[0m\u001b[0;34m,\u001b[0m \u001b[0mdata_type\u001b[0m\u001b[0;34m,\u001b[0m \u001b[0muse_excel\u001b[0m\u001b[0;34m=\u001b[0m\u001b[0muse_excel\u001b[0m\u001b[0;34m)\u001b[0m\u001b[0;34m\u001b[0m\u001b[0;34m\u001b[0m\u001b[0m\n\u001b[0m",
      "\u001b[0;32m~/Documents/MMWW Work/media_mix_model/helper.py\u001b[0m in \u001b[0;36mparse_file\u001b[0;34m(data, file_type, use_excel)\u001b[0m\n\u001b[1;32m     93\u001b[0m         \u001b[0mcell\u001b[0m\u001b[0;34m-\u001b[0m\u001b[0;36m2\u001b[0m\u001b[0;34m:\u001b[0m \u001b[0mparse\u001b[0m \u001b[0mthe\u001b[0m \u001b[0;34m.\u001b[0m\u001b[0mcsv\u001b[0m \u001b[0mfile\u001b[0m \u001b[0minputted\u001b[0m \u001b[0minto\u001b[0m \u001b[0mupload\u001b[0m \u001b[0mbutton\u001b[0m\u001b[0;34m\u001b[0m\u001b[0;34m\u001b[0m\u001b[0m\n\u001b[1;32m     94\u001b[0m     \"\"\"\n\u001b[0;32m---> 95\u001b[0;31m     \u001b[0;32massert\u001b[0m \u001b[0mlen\u001b[0m\u001b[0;34m(\u001b[0m\u001b[0mdata\u001b[0m\u001b[0;34m.\u001b[0m\u001b[0mvalue\u001b[0m\u001b[0;34m)\u001b[0m \u001b[0;34m>\u001b[0m \u001b[0;36m0\u001b[0m\u001b[0;34m,\u001b[0m \u001b[0;34m\"PLEASE go back and run the above CELL\"\u001b[0m\u001b[0;34m\u001b[0m\u001b[0;34m\u001b[0m\u001b[0m\n\u001b[0m\u001b[1;32m     96\u001b[0m     \u001b[0mprint\u001b[0m\u001b[0;34m(\u001b[0m\u001b[0;34mf\"Thanks for uploading the {file_type}. I will display the dataframe in 2 seconds\"\u001b[0m\u001b[0;34m)\u001b[0m\u001b[0;34m\u001b[0m\u001b[0;34m\u001b[0m\u001b[0m\n\u001b[1;32m     97\u001b[0m     \u001b[0muf\u001b[0m \u001b[0;34m=\u001b[0m \u001b[0mdata\u001b[0m\u001b[0;34m.\u001b[0m\u001b[0mvalue\u001b[0m\u001b[0;34m[\u001b[0m\u001b[0mlist\u001b[0m\u001b[0;34m(\u001b[0m\u001b[0mdata\u001b[0m\u001b[0;34m.\u001b[0m\u001b[0mvalue\u001b[0m\u001b[0;34m.\u001b[0m\u001b[0mkeys\u001b[0m\u001b[0;34m(\u001b[0m\u001b[0;34m)\u001b[0m\u001b[0;34m)\u001b[0m\u001b[0;34m[\u001b[0m\u001b[0;36m0\u001b[0m\u001b[0;34m]\u001b[0m\u001b[0;34m]\u001b[0m\u001b[0;34m[\u001b[0m\u001b[0;34m'content'\u001b[0m\u001b[0;34m]\u001b[0m\u001b[0;34m\u001b[0m\u001b[0;34m\u001b[0m\u001b[0m\n",
      "\u001b[0;31mAssertionError\u001b[0m: PLEASE go back and run the above CELL"
     ]
    }
   ],
   "source": [
    "sales_df = parse_file(df_as_bytes, data_type, use_excel=use_excel)"
   ]
  },
  {
   "cell_type": "markdown",
   "metadata": {},
   "source": [
    "***"
   ]
  },
  {
   "cell_type": "markdown",
   "metadata": {},
   "source": [
    "### step 3: clean sales data"
   ]
  },
  {
   "cell_type": "markdown",
   "metadata": {},
   "source": [
    "After running the cell, the notebook will display a list of the column-names of the sales data.\n",
    "\n",
    "This cell asks you to identify the different countries or regions represented in the data, identify which column corresponds to the (day/week) and identify which column corresponds to the target or dependent variable (revenue/orders).\n",
    "\n",
    "> Type each column name exactly as it is displayed, without quotations"
   ]
  },
  {
   "cell_type": "code",
   "execution_count": 9,
   "metadata": {},
   "outputs": [
    {
     "name": "stdout",
     "output_type": "stream",
     "text": [
      "COLUMNS of SALES DATA: ['Campaign Geo' 'Day' 'Visits' 'Orders' 'Conv Rate (Adobe)'\n",
      " 'Revenue (Adobe)']\n",
      "If SALES DATA has more than one country that you'd like to segment and analyze separately, type the name of the column\n",
      "If not, type NONE in that exact format\n"
     ]
    },
    {
     "name": "stdin",
     "output_type": "stream",
     "text": [
      "[column-name/NONE] Campaign Geo\n"
     ]
    },
    {
     "name": "stdout",
     "output_type": "stream",
     "text": [
      "Which column corresponds to the day\n"
     ]
    },
    {
     "name": "stdin",
     "output_type": "stream",
     "text": [
      "[column-name] Dayt\n"
     ]
    },
    {
     "name": "stdout",
     "output_type": "stream",
     "text": [
      "That column is not a valid column. We'll try again\n",
      "Which column corresponds to the day\n"
     ]
    },
    {
     "name": "stdin",
     "output_type": "stream",
     "text": [
      "[column-name] Day\n"
     ]
    },
    {
     "name": "stdout",
     "output_type": "stream",
     "text": [
      "Which column corresponds to the target/response/dependent variable? In most cases, this will be REVENUE or something similar\n"
     ]
    },
    {
     "name": "stdin",
     "output_type": "stream",
     "text": [
      "[column-name] Orders\n"
     ]
    }
   ],
   "source": [
    "sales_df_cleaned = clean_sales(sales_df, data_type, granularity=granularity)"
   ]
  },
  {
   "cell_type": "markdown",
   "metadata": {},
   "source": [
    "***"
   ]
  },
  {
   "cell_type": "markdown",
   "metadata": {},
   "source": [
    "This process will be repeated for the advertising media mix data."
   ]
  },
  {
   "cell_type": "markdown",
   "metadata": {},
   "source": [
    "## 1B: Input Data - Ad Mix"
   ]
  },
  {
   "cell_type": "markdown",
   "metadata": {},
   "source": [
    "Now that you've uploaded the sales data, the notebook requires advertising mix data.\n",
    "Set the `use_excel` variable in the next cell to `False` if you are inputting a .csv file; if not, leave as `True`.\n",
    "\n",
    "> The granularity of this data must be the same granularity of the sales data."
   ]
  },
  {
   "cell_type": "code",
   "execution_count": 10,
   "metadata": {},
   "outputs": [],
   "source": [
    "use_excel = True"
   ]
  },
  {
   "cell_type": "markdown",
   "metadata": {},
   "source": [
    "***"
   ]
  },
  {
   "cell_type": "markdown",
   "metadata": {},
   "source": [
    "### step 1: input ad data"
   ]
  },
  {
   "cell_type": "code",
   "execution_count": 11,
   "metadata": {},
   "outputs": [],
   "source": [
    "data_type = \"AD DATA\""
   ]
  },
  {
   "cell_type": "code",
   "execution_count": 12,
   "metadata": {},
   "outputs": [
    {
     "data": {
      "application/vnd.jupyter.widget-view+json": {
       "model_id": "113d083d9e82416d952a9a596f26567a",
       "version_major": 2,
       "version_minor": 0
      },
      "text/plain": [
       "FileUpload(value={}, accept='.xlsx', description='Upload')"
      ]
     },
     "metadata": {},
     "output_type": "display_data"
    }
   ],
   "source": [
    "ad_df_as_bytes = input_file(data_type, use_excel=use_excel)"
   ]
  },
  {
   "cell_type": "markdown",
   "metadata": {},
   "source": [
    "***"
   ]
  },
  {
   "cell_type": "markdown",
   "metadata": {},
   "source": [
    "### step 2: parse ad data"
   ]
  },
  {
   "cell_type": "markdown",
   "metadata": {},
   "source": [
    "Now that you've attached the ad data, like before, the notebook will need to parse the data from the *Upload* Button. \n",
    "After running the cell, the notebook will display the ad data in a table. \n",
    "The following questions regarding the format of the data will be asked.\n",
    "\n",
    "1. Is the header, as displayed, of the dataframe correct? [y/n] If no, which row contains the header (zero-indexed)?\n",
    "2. Is the ad mix data file good to go? [y/n]\n",
    "\n",
    "`y` corresponds to yes, and `n` corresponds to no. `zero-indexed` is a way of numbering in which the initial element of a sequence is assigned the index 0, rather than 1."
   ]
  },
  {
   "cell_type": "code",
   "execution_count": 13,
   "metadata": {},
   "outputs": [
    {
     "name": "stdout",
     "output_type": "stream",
     "text": [
      "Thanks for uploading the AD DATA. I will display the dataframe in 2 seconds\n"
     ]
    },
    {
     "data": {
      "text/html": [
       "<div>\n",
       "<style scoped>\n",
       "    .dataframe tbody tr th:only-of-type {\n",
       "        vertical-align: middle;\n",
       "    }\n",
       "\n",
       "    .dataframe tbody tr th {\n",
       "        vertical-align: top;\n",
       "    }\n",
       "\n",
       "    .dataframe thead th {\n",
       "        text-align: right;\n",
       "    }\n",
       "</style>\n",
       "<table border=\"1\" class=\"dataframe\">\n",
       "  <thead>\n",
       "    <tr style=\"text-align: right;\">\n",
       "      <th></th>\n",
       "      <th>Day</th>\n",
       "      <th>Campaign Geo</th>\n",
       "      <th>Channel</th>\n",
       "      <th>Publisher</th>\n",
       "      <th>Media Objective</th>\n",
       "      <th>Audience</th>\n",
       "      <th>Ad Type</th>\n",
       "      <th>Media Cost</th>\n",
       "      <th>Impressions</th>\n",
       "    </tr>\n",
       "  </thead>\n",
       "  <tbody>\n",
       "    <tr>\n",
       "      <th>0</th>\n",
       "      <td>2021-03-01</td>\n",
       "      <td>US</td>\n",
       "      <td>Paid Social</td>\n",
       "      <td>Facebook</td>\n",
       "      <td>NaN</td>\n",
       "      <td>Retargeting</td>\n",
       "      <td>Static</td>\n",
       "      <td>1752.290000</td>\n",
       "      <td>62418.0</td>\n",
       "    </tr>\n",
       "    <tr>\n",
       "      <th>1</th>\n",
       "      <td>2021-03-01</td>\n",
       "      <td>US</td>\n",
       "      <td>Paid Social</td>\n",
       "      <td>Facebook</td>\n",
       "      <td>NaN</td>\n",
       "      <td>Retargeting</td>\n",
       "      <td>Video</td>\n",
       "      <td>131.840000</td>\n",
       "      <td>5849.0</td>\n",
       "    </tr>\n",
       "    <tr>\n",
       "      <th>2</th>\n",
       "      <td>2021-03-01</td>\n",
       "      <td>Canada</td>\n",
       "      <td>Paid Search</td>\n",
       "      <td>Google Search_Paid Search Brand</td>\n",
       "      <td>Paid Search Brand</td>\n",
       "      <td>All</td>\n",
       "      <td>Search</td>\n",
       "      <td>249.590000</td>\n",
       "      <td>951.0</td>\n",
       "    </tr>\n",
       "    <tr>\n",
       "      <th>3</th>\n",
       "      <td>2021-03-01</td>\n",
       "      <td>US</td>\n",
       "      <td>Paid Search</td>\n",
       "      <td>Bing Search_Shopping Ads (Brand/Non-Brand)</td>\n",
       "      <td>Shopping Ads (Brand/Non-Brand)</td>\n",
       "      <td>All</td>\n",
       "      <td>Search</td>\n",
       "      <td>170.280000</td>\n",
       "      <td>7393.0</td>\n",
       "    </tr>\n",
       "    <tr>\n",
       "      <th>4</th>\n",
       "      <td>2021-03-01</td>\n",
       "      <td>US</td>\n",
       "      <td>TV</td>\n",
       "      <td>Linear TV_Awareness</td>\n",
       "      <td>Awareness</td>\n",
       "      <td>All</td>\n",
       "      <td>Linear TV</td>\n",
       "      <td>0.000000</td>\n",
       "      <td>NaN</td>\n",
       "    </tr>\n",
       "    <tr>\n",
       "      <th>...</th>\n",
       "      <td>...</td>\n",
       "      <td>...</td>\n",
       "      <td>...</td>\n",
       "      <td>...</td>\n",
       "      <td>...</td>\n",
       "      <td>...</td>\n",
       "      <td>...</td>\n",
       "      <td>...</td>\n",
       "      <td>...</td>\n",
       "    </tr>\n",
       "    <tr>\n",
       "      <th>16377</th>\n",
       "      <td>2022-03-20</td>\n",
       "      <td>US</td>\n",
       "      <td>Paid Social</td>\n",
       "      <td>Facebook</td>\n",
       "      <td>Purchases</td>\n",
       "      <td>Retargeting</td>\n",
       "      <td>Static</td>\n",
       "      <td>1964.730000</td>\n",
       "      <td>78985.0</td>\n",
       "    </tr>\n",
       "    <tr>\n",
       "      <th>16378</th>\n",
       "      <td>2022-03-20</td>\n",
       "      <td>Canada</td>\n",
       "      <td>Paid Social</td>\n",
       "      <td>Snapchat_Traffic</td>\n",
       "      <td>Traffic</td>\n",
       "      <td>Retargeting</td>\n",
       "      <td>Video</td>\n",
       "      <td>28.080916</td>\n",
       "      <td>6036.0</td>\n",
       "    </tr>\n",
       "    <tr>\n",
       "      <th>16379</th>\n",
       "      <td>2022-03-20</td>\n",
       "      <td>US</td>\n",
       "      <td>Paid Social</td>\n",
       "      <td>Facebook</td>\n",
       "      <td>Purchases - Skincare</td>\n",
       "      <td>All</td>\n",
       "      <td>Video</td>\n",
       "      <td>25.160000</td>\n",
       "      <td>1611.0</td>\n",
       "    </tr>\n",
       "    <tr>\n",
       "      <th>16380</th>\n",
       "      <td>2022-03-20</td>\n",
       "      <td>US</td>\n",
       "      <td>Paid Social</td>\n",
       "      <td>Facebook</td>\n",
       "      <td>Awareness</td>\n",
       "      <td>Retargeting</td>\n",
       "      <td>GIF</td>\n",
       "      <td>1189.550000</td>\n",
       "      <td>144941.0</td>\n",
       "    </tr>\n",
       "    <tr>\n",
       "      <th>16381</th>\n",
       "      <td>2022-03-20</td>\n",
       "      <td>Canada</td>\n",
       "      <td>Paid Social</td>\n",
       "      <td>Snapchat_Awareness</td>\n",
       "      <td>Awareness</td>\n",
       "      <td>Retargeting</td>\n",
       "      <td>Static</td>\n",
       "      <td>63.351710</td>\n",
       "      <td>28502.0</td>\n",
       "    </tr>\n",
       "  </tbody>\n",
       "</table>\n",
       "<p>16382 rows × 9 columns</p>\n",
       "</div>"
      ],
      "text/plain": [
       "             Day Campaign Geo      Channel  \\\n",
       "0     2021-03-01           US  Paid Social   \n",
       "1     2021-03-01           US  Paid Social   \n",
       "2     2021-03-01       Canada  Paid Search   \n",
       "3     2021-03-01           US  Paid Search   \n",
       "4     2021-03-01           US           TV   \n",
       "...          ...          ...          ...   \n",
       "16377 2022-03-20           US  Paid Social   \n",
       "16378 2022-03-20       Canada  Paid Social   \n",
       "16379 2022-03-20           US  Paid Social   \n",
       "16380 2022-03-20           US  Paid Social   \n",
       "16381 2022-03-20       Canada  Paid Social   \n",
       "\n",
       "                                        Publisher  \\\n",
       "0                                        Facebook   \n",
       "1                                        Facebook   \n",
       "2                 Google Search_Paid Search Brand   \n",
       "3      Bing Search_Shopping Ads (Brand/Non-Brand)   \n",
       "4                             Linear TV_Awareness   \n",
       "...                                           ...   \n",
       "16377                                    Facebook   \n",
       "16378                            Snapchat_Traffic   \n",
       "16379                                    Facebook   \n",
       "16380                                    Facebook   \n",
       "16381                          Snapchat_Awareness   \n",
       "\n",
       "                      Media Objective     Audience    Ad Type   Media Cost  \\\n",
       "0                                 NaN  Retargeting     Static  1752.290000   \n",
       "1                                 NaN  Retargeting      Video   131.840000   \n",
       "2                   Paid Search Brand          All     Search   249.590000   \n",
       "3      Shopping Ads (Brand/Non-Brand)          All     Search   170.280000   \n",
       "4                           Awareness          All  Linear TV     0.000000   \n",
       "...                               ...          ...        ...          ...   \n",
       "16377                       Purchases  Retargeting     Static  1964.730000   \n",
       "16378                         Traffic  Retargeting      Video    28.080916   \n",
       "16379            Purchases - Skincare          All      Video    25.160000   \n",
       "16380                       Awareness  Retargeting        GIF  1189.550000   \n",
       "16381                       Awareness  Retargeting     Static    63.351710   \n",
       "\n",
       "       Impressions  \n",
       "0          62418.0  \n",
       "1           5849.0  \n",
       "2            951.0  \n",
       "3           7393.0  \n",
       "4              NaN  \n",
       "...            ...  \n",
       "16377      78985.0  \n",
       "16378       6036.0  \n",
       "16379       1611.0  \n",
       "16380     144941.0  \n",
       "16381      28502.0  \n",
       "\n",
       "[16382 rows x 9 columns]"
      ]
     },
     "metadata": {},
     "output_type": "display_data"
    },
    {
     "name": "stdin",
     "output_type": "stream",
     "text": [
      "Is the header correct [y/n] y\n"
     ]
    },
    {
     "name": "stdout",
     "output_type": "stream",
     "text": [
      "SUCCESS -- PROCEED\n"
     ]
    }
   ],
   "source": [
    "ad_df = parse_file(ad_df_as_bytes, data_type, use_excel=use_excel)"
   ]
  },
  {
   "cell_type": "markdown",
   "metadata": {},
   "source": [
    "***"
   ]
  },
  {
   "cell_type": "markdown",
   "metadata": {},
   "source": [
    "### step 3: clean ad mix data and merge with sales data"
   ]
  },
  {
   "cell_type": "markdown",
   "metadata": {},
   "source": [
    "After running the cell, the notebook will display a list of the column-names of the ad mix data. This cell asks you to identify the column in the ad data corresponding to the country/region, media cost, and impressions.\n",
    "\n",
    "The output of this cell, `data_dict`, is a dictionary mapping country name to its corresponding data matrix."
   ]
  },
  {
   "cell_type": "code",
   "execution_count": 14,
   "metadata": {},
   "outputs": [
    {
     "name": "stdout",
     "output_type": "stream",
     "text": [
      "['Day' 'Campaign Geo' 'Channel' 'Publisher' 'Media Objective' 'Audience'\n",
      " 'Ad Type' 'Media Cost' 'Impressions']\n"
     ]
    },
    {
     "name": "stdin",
     "output_type": "stream",
     "text": [
      "What column corresponds to the country column in the ad data? Campaign Geo\n",
      "What column corresponds to the media cost column in the ad data? Media Cost\n",
      "What column corresponds to the impressions column in the ad data? Impressions\n"
     ]
    },
    {
     "name": "stdout",
     "output_type": "stream",
     "text": [
      "US\n",
      "PROCESSING US\n",
      "MERGE SUCCESS for US\n",
      "Canada\n",
      "PROCESSING Canada\n",
      "MERGE SUCCESS for Canada\n"
     ]
    }
   ],
   "source": [
    "data_dict = clean_and_merge(ad_df, sales_df_cleaned)"
   ]
  },
  {
   "cell_type": "code",
   "execution_count": 15,
   "metadata": {},
   "outputs": [],
   "source": [
    "for key in data_dict:\n",
    "    data_dict[key].columns = [re.sub('[^0-9a-zA-Z_=.]+', '', col) for col in data_dict[key].columns]"
   ]
  },
  {
   "cell_type": "markdown",
   "metadata": {},
   "source": [
    "***"
   ]
  },
  {
   "cell_type": "markdown",
   "metadata": {},
   "source": [
    "<a id=\"data-preprocessing\"></a> \n",
    "# 2) Data Preprocessing"
   ]
  },
  {
   "cell_type": "markdown",
   "metadata": {},
   "source": [
    "This cell finds the optimal parameters for the `carryover` and `diminishing return` transformations. \n",
    "\n",
    "The notebook is only capable of working with one dataset at a time. Run the next cell to get a list of valid country names. Set the value of `country` in the next cell to one of the values in the list of country names. Ensure the country name is surrounding by double quotations, like `\"country_name\"`. \n",
    "\n",
    "> The results from the remainder of the notebook will be only for this country."
   ]
  },
  {
   "cell_type": "code",
   "execution_count": 16,
   "metadata": {},
   "outputs": [
    {
     "name": "stdout",
     "output_type": "stream",
     "text": [
      "Possible Countries to choose from ['US', 'Canada']\n"
     ]
    }
   ],
   "source": [
    "possible_countries = data_dict.keys()\n",
    "print(\"Possible Countries to choose from\", list(possible_countries))"
   ]
  },
  {
   "cell_type": "markdown",
   "metadata": {},
   "source": [
    "Set the `target` variable to the dependent variable, `Revenue` or `Orders`, or something else."
   ]
  },
  {
   "cell_type": "code",
   "execution_count": 18,
   "metadata": {},
   "outputs": [],
   "source": [
    "country = \"US\"\n",
    "target = 'Orders'"
   ]
  },
  {
   "cell_type": "markdown",
   "metadata": {},
   "source": [
    "> This cell takes between two and 15 minutes to run"
   ]
  },
  {
   "cell_type": "code",
   "execution_count": 19,
   "metadata": {},
   "outputs": [
    {
     "name": "stdout",
     "output_type": "stream",
     "text": [
      " Amazon_Prospecting_MediaCost_alpha=0.1L=2theta=0 || r-value of -0.15901704230571573\n",
      " BingSearch_PaidSearchBrand_MediaCost_alpha=0.1L=2theta=0 || r-value of 0.03982114244091431\n",
      " BingSearch_PaidSearchNonBrand_MediaCost_alpha=0.1L=2theta=0 || r-value of -0.10914577911863553\n",
      " BingSearch_ShoppingAdsBrandNonBrand_MediaCost_alpha=0.1L=2theta=0 || r-value of -0.03862706245758885\n",
      " CTV_Awareness_MediaCost_alpha=0.1L=2theta=0 || r-value of -0.04549605072399433\n",
      " Criteo_Prospecting_MediaCost_alpha=0.1L=2theta=0 || r-value of -0.07395634351178423\n",
      " Criteo_Retargeting_MediaCost_alpha=0.1L=2theta=0 || r-value of -0.08550847446047218\n",
      " DV360_Prospecting_MediaCost_alpha=0.1L=2theta=0 || r-value of 0.06776051866880661\n",
      " DV360_Retargeting_MediaCost_alpha=0.1L=2theta=0 || r-value of -0.19374360968376303\n",
      " Facebook_MediaCost_alpha=0.9L=20theta=0 || r-value of 0.6314085202005063\n",
      " GoogleSearch_NativeDiscoveryAds_MediaCost_alpha=0.1L=2theta=0 || r-value of -0.015647642686901504\n",
      " GoogleSearch_PaidSearchBrand_MediaCost_alpha=0.1L=2theta=0 || r-value of -0.003988481544179465\n",
      " GoogleSearch_PaidSearchNonBrand_MediaCost_alpha=0.1L=2theta=0 || r-value of -0.060613051119531955\n",
      " GoogleSearch_ShoppingAdsBrandNonBrand_MediaCost_alpha=0.9L=22theta=0 || r-value of 0.3154896962018858\n",
      " Influential_Awareness_MediaCost_alpha=0.9L=18theta=0 || r-value of -0.1456605977727206\n",
      " Influential_Conversions_MediaCost_alpha=0.9L=20theta=0 || r-value of -0.1410914343366067\n",
      " LinearTV_Awareness_MediaCost_alpha=0.1L=2theta=0 || r-value of -0.2573592491266033\n",
      " Pinterest_Prospecting_MediaCost_alpha=0.1L=2theta=0 || r-value of -0.06721533743078079\n",
      " Pinterest_Retargeting_MediaCost_alpha=0.1L=2theta=0 || r-value of -0.040128591105593095\n",
      " Radio_Awareness_MediaCost_alpha=0.9L=28theta=0 || r-value of nan\n",
      " Snapchat_AddtoCartTeens_MediaCost_alpha=0.1L=2theta=0 || r-value of 0.00016682750547811632\n",
      " Snapchat_AddtoCartYoungAdults_MediaCost_alpha=0.1L=2theta=0 || r-value of 0.0030183886251703017\n",
      " Snapchat_Awareness_MediaCost_alpha=0.9L=4theta=0 || r-value of -0.044892369915471304\n",
      " Snapchat_Conversions_MediaCost_alpha=0.9L=4theta=0 || r-value of -0.03623960914418049\n",
      " Snapchat_ConversionsTeens_MediaCost_alpha=0.1L=2theta=0 || r-value of -0.05780153901427177\n",
      " Snapchat_ConversionsYoungAdults_MediaCost_alpha=0.1L=2theta=0 || r-value of -0.05655268110315044\n",
      " Snapchat_VideoViewsTeens_MediaCost_alpha=0.1L=4theta=0 || r-value of 0.011619076059254763\n",
      " Snapchat_VideoViewsYoungAdults_MediaCost_alpha=0.1L=6theta=0 || r-value of 0.011625412897317477\n",
      " TheTradeDesk_Prospecting_MediaCost_alpha=0.9L=6theta=0 || r-value of 0.048727333646128294\n",
      " TheTradeDesk_Retargeting_MediaCost_alpha=0.9L=6theta=0 || r-value of 0.02573643437674747\n",
      " Tinder_Prospecting_MediaCost_alpha=0.1L=2theta=0 || r-value of 0.05393963896751075\n",
      " Twitch_Prospecting_MediaCost_alpha=0.1L=2theta=0 || r-value of -0.09482085664256645\n",
      " YouTube_Prospecting_MediaCost_alpha=0.9L=24theta=0 || r-value of 0.2830966101555658\n",
      " YouTube_Retargeting_MediaCost_alpha=0.8L=14theta=0 || r-value of 0.15937117031982065\n",
      " Amazon_Prospecting_MediaCost_alpha=0.1L=2theta=0_power=0.6 || r-value of -0.17707176972742683\n",
      " BingSearch_PaidSearchBrand_MediaCost_alpha=0.1L=2theta=0_power=0.1 || r-value of 0.17466010315961403\n",
      " BingSearch_PaidSearchNonBrand_MediaCost_alpha=0.1L=2theta=0_power=0.1 || r-value of -0.03174009665144917\n",
      " BingSearch_ShoppingAdsBrandNonBrand_MediaCost_alpha=0.1L=2theta=0_power=0.1 || r-value of 0.17897764868217825\n",
      " CTV_Awareness_MediaCost_alpha=0.1L=2theta=0_power=0.6 || r-value of -0.08912343658246509\n",
      " Criteo_Prospecting_MediaCost_alpha=0.1L=2theta=0_power=0.6 || r-value of -0.08234370232826638\n",
      " Criteo_Retargeting_MediaCost_alpha=0.1L=2theta=0_power=0.6 || r-value of -0.08764550645461017\n",
      " DV360_Prospecting_MediaCost_alpha=0.1L=2theta=0_power=0.6 || r-value of -0.1025174774375517\n",
      " DV360_Retargeting_MediaCost_alpha=0.1L=2theta=0_power=0.6 || r-value of -0.3252075214655526\n",
      " Facebook_MediaCost_alpha=0.9L=20theta=0_power=0.6 || r-value of 0.6346347977343826\n",
      " GoogleSearch_NativeDiscoveryAds_MediaCost_alpha=0.1L=2theta=0_power=0.6 || r-value of -0.0636930094653914\n",
      " GoogleSearch_PaidSearchBrand_MediaCost_alpha=0.1L=2theta=0_power=0.1 || r-value of 0.03817308702486915\n",
      " GoogleSearch_PaidSearchNonBrand_MediaCost_alpha=0.1L=2theta=0_power=0.6 || r-value of -0.08032635697083211\n",
      " GoogleSearch_ShoppingAdsBrandNonBrand_MediaCost_alpha=0.9L=22theta=0_power=0.6 || r-value of 0.3226838539792906\n",
      " Influential_Awareness_MediaCost_alpha=0.9L=18theta=0_power=0.6 || r-value of -0.153820678990211\n",
      " Influential_Conversions_MediaCost_alpha=0.9L=20theta=0_power=0.6 || r-value of -0.15186454555612122\n",
      " LinearTV_Awareness_MediaCost_alpha=0.1L=2theta=0_power=0.6 || r-value of -0.3272927985062576\n",
      " Pinterest_Prospecting_MediaCost_alpha=0.1L=2theta=0_power=0.6 || r-value of -0.0698008065632879\n",
      " Pinterest_Retargeting_MediaCost_alpha=0.1L=2theta=0_power=0.6 || r-value of -0.05284287547716031\n",
      " Radio_Awareness_MediaCost_alpha=0.9L=28theta=0_power=0.6 || r-value of nan\n",
      " Snapchat_AddtoCartTeens_MediaCost_alpha=0.1L=2theta=0_power=0.1 || r-value of 0.016999929001526203\n",
      " Snapchat_AddtoCartYoungAdults_MediaCost_alpha=0.1L=2theta=0_power=0.1 || r-value of 0.016927227376616744\n",
      " Snapchat_Awareness_MediaCost_alpha=0.9L=4theta=0_power=0.6 || r-value of -0.0526144477352403\n",
      " Snapchat_Conversions_MediaCost_alpha=0.9L=4theta=0_power=0.6 || r-value of -0.037611084053874685\n",
      " Snapchat_ConversionsTeens_MediaCost_alpha=0.1L=2theta=0_power=0.30000000000000004 || r-value of -0.055937515413000814\n",
      " Snapchat_ConversionsYoungAdults_MediaCost_alpha=0.1L=2theta=0_power=0.1 || r-value of -0.05139301233130604\n",
      " Snapchat_VideoViewsTeens_MediaCost_alpha=0.1L=4theta=0_power=0.6 || r-value of 0.010983473884860595\n",
      " Snapchat_VideoViewsYoungAdults_MediaCost_alpha=0.1L=6theta=0_power=0.6 || r-value of 0.010988962144290747\n",
      " TheTradeDesk_Prospecting_MediaCost_alpha=0.9L=6theta=0_power=0.6 || r-value of 0.03281343103908529\n",
      " TheTradeDesk_Retargeting_MediaCost_alpha=0.9L=6theta=0_power=0.6 || r-value of 0.010371490711322963\n",
      " Tinder_Prospecting_MediaCost_alpha=0.1L=2theta=0_power=0.6 || r-value of 0.0369443104320867\n",
      " Twitch_Prospecting_MediaCost_alpha=0.1L=2theta=0_power=0.6 || r-value of -0.097404975732457\n",
      " YouTube_Prospecting_MediaCost_alpha=0.9L=24theta=0_power=0.1 || r-value of 0.6590716991689747\n",
      " YouTube_Retargeting_MediaCost_alpha=0.8L=14theta=0_power=0.1 || r-value of 0.6760826799427906\n",
      "number of nulls post transformations = 0\n"
     ]
    }
   ],
   "source": [
    "data_matrix = apply_transformations(data_dict, country=country, response_var=target)"
   ]
  },
  {
   "cell_type": "code",
   "execution_count": 20,
   "metadata": {},
   "outputs": [],
   "source": [
    "data_matrix.columns = [re.sub('[^0-9a-zA-Z_=.]+', '', col) for col in data_matrix.columns]"
   ]
  },
  {
   "cell_type": "code",
   "execution_count": 21,
   "metadata": {},
   "outputs": [
    {
     "data": {
      "text/plain": [
       "[<matplotlib.lines.Line2D at 0x20e30b65250>]"
      ]
     },
     "execution_count": 21,
     "metadata": {},
     "output_type": "execute_result"
    },
    {
     "data": {
      "image/png": "[encoded data removed]",
      "text/plain": [
       "<Figure size 576x396 with 1 Axes>"
      ]
     },
     "metadata": {},
     "output_type": "display_data"
    }
   ],
   "source": [
    "plt.plot(delayed_adstock(alpha=0.9, theta=0, L=10))"
   ]
  },
  {
   "cell_type": "markdown",
   "metadata": {},
   "source": [
    "***"
   ]
  },
  {
   "cell_type": "markdown",
   "metadata": {},
   "source": [
    "<a id=\"modeling\"></a> \n",
    "# 3) Modeling"
   ]
  },
  {
   "cell_type": "markdown",
   "metadata": {},
   "source": [
    "The model, ridge regression, will be trained. The model can be set to `additive` or `multiplicative`, which makes another set of assumptions. Set the `model_type` variable below to either `\"additive\"` or `\"multiplicative\"`, maintaining the double quotations. Set the `include_impressions` variable to `True` if you'd like to include impressions in the model (at the risk of overfitting), or leave as `False`."
   ]
  },
  {
   "cell_type": "markdown",
   "metadata": {},
   "source": [
    "## model fitting"
   ]
  },
  {
   "cell_type": "code",
   "execution_count": 45,
   "metadata": {},
   "outputs": [],
   "source": [
    "model_type = \"multiplicative\"\n",
    "include_impressions = True"
   ]
  },
  {
   "cell_type": "code",
   "execution_count": 46,
   "metadata": {},
   "outputs": [
    {
     "name": "stdout",
     "output_type": "stream",
     "text": [
      "model=Ridge(alpha=1e-05, positive=True) train_r2=0.7701049606432735 validation_r2=0.5766342474556938\n"
     ]
    },
    {
     "data": {
      "image/png": "[encoded data removed]",
      "text/plain": [
       "<Figure size 576x396 with 2 Axes>"
      ]
     },
     "metadata": {},
     "output_type": "display_data"
    }
   ],
   "source": [
    "if model_type == \"additive\":\n",
    "    x, y = prep_additive_model(data_matrix.fillna(0), target)\n",
    "    if not include_impressions:\n",
    "        x = x[get_media_vars(x)]\n",
    "    model = ridge_regression(x, y)\n",
    "elif model_type == \"multiplicative\":\n",
    "    x, y = prep_mult_model(data_matrix.fillna(0), target)\n",
    "    if not include_impressions:\n",
    "        x = x[get_media_vars(x)]\n",
    "    model = ridge_regression(x, y)"
   ]
  },
  {
   "cell_type": "markdown",
   "metadata": {},
   "source": [
    "***"
   ]
  },
  {
   "cell_type": "markdown",
   "metadata": {},
   "source": [
    "## model evaluation"
   ]
  },
  {
   "cell_type": "markdown",
   "metadata": {},
   "source": [
    "Here's a graph of how well the model performs on the training set.\n",
    "> MAPE = mean absolute percent error between the true revenue and predicted revenue (from trained model)"
   ]
  },
  {
   "cell_type": "code",
   "execution_count": 47,
   "metadata": {},
   "outputs": [
    {
     "data": {
      "image/png": "[encoded data removed]",
      "text/plain": [
       "<Figure size 576x396 with 1 Axes>"
      ]
     },
     "metadata": {},
     "output_type": "display_data"
    }
   ],
   "source": [
    "pred_vs_true(model, x, y, model_type=model_type)"
   ]
  },
  {
   "cell_type": "code",
   "execution_count": 62,
   "metadata": {},
   "outputs": [],
   "source": [
    "def pred_vs_true_v2(model, X, Y, model_type=\"additive\"):\n",
    "    \n",
    "    split = int(0.95 * len(X))\n",
    "    \n",
    "    \n",
    "    xtrain, xval = X.iloc[:split, :], X.iloc[split:, :]\n",
    "    ytrain, yval = Y.iloc[:split], Y.iloc[split:]\n",
    "\n",
    "#     xval, yval = xtrain, ytrain\n",
    "\n",
    "    model.fit(xtrain, ytrain)\n",
    "    y_true = yval\n",
    "    y_pred = model.predict(xval)\n",
    "    \n",
    "    if model_type == \"multiplicative\":\n",
    "        y_true = np.exp(y_true)\n",
    "        y_pred = np.exp(y_pred)\n",
    "    \n",
    "    mape = mean_absolute_percentage_error(y_true, y_pred) \n",
    "    plt.plot(np.arange(len(y_true)), y_true, color='blue', label='true revenue')\n",
    "    plt.plot(np.arange(len(y_pred)), y_pred, color='green', label='predicted revenue')\n",
    "    plt.legend()\n",
    "    plt.title(f\"true vs predicted revenue on validation sample (mape={mape}, model_type={model_type})\");"
   ]
  },
  {
   "cell_type": "code",
   "execution_count": 63,
   "metadata": {},
   "outputs": [
    {
     "data": {
      "image/png": "[encoded data removed]",
      "text/plain": [
       "<Figure size 576x396 with 1 Axes>"
      ]
     },
     "metadata": {},
     "output_type": "display_data"
    }
   ],
   "source": [
    "pred_vs_true_v2(model, x, y, model_type=model_type)"
   ]
  },
  {
   "cell_type": "markdown",
   "metadata": {},
   "source": [
    "### one-day forecasting"
   ]
  },
  {
   "cell_type": "code",
   "execution_count": 23,
   "metadata": {},
   "outputs": [],
   "source": [
    "box, c = init_sliders(model)"
   ]
  },
  {
   "cell_type": "code",
   "execution_count": null,
   "metadata": {},
   "outputs": [],
   "source": [
    "box"
   ]
  },
  {
   "cell_type": "markdown",
   "metadata": {},
   "source": [
    "Run the next cell. Verify that the specified slider values match the output."
   ]
  },
  {
   "cell_type": "code",
   "execution_count": null,
   "metadata": {},
   "outputs": [],
   "source": [
    "get_slider_vals(model, c)"
   ]
  },
  {
   "cell_type": "code",
   "execution_count": null,
   "metadata": {},
   "outputs": [],
   "source": [
    "if model_type == \"additive\":\n",
    "    arr =  add_predict(data_dict[country].copy(), model, c)\n",
    "elif model_type == \"multiplicative\":\n",
    "    arr =  mult_predict(data_dict[country].copy(), model, c)"
   ]
  },
  {
   "cell_type": "markdown",
   "metadata": {},
   "source": [
    "### One-Month Forecasting"
   ]
  },
  {
   "cell_type": "markdown",
   "metadata": {},
   "source": [
    "Run the next cell and proceed."
   ]
  },
  {
   "cell_type": "code",
   "execution_count": 51,
   "metadata": {},
   "outputs": [
    {
     "data": {
      "text/plain": [
       "['Amazon_MediaCost_alpha=0.1L=2theta=0_power=0.6',\n",
       " 'BingSearch_MediaCost_alpha=0.1L=2theta=0_power=0.1',\n",
       " 'DV360_MediaCost_alpha=0.1L=2theta=0_power=0.6',\n",
       " 'Facebook_MediaCost_alpha=0.9L=24theta=0_power=0.6',\n",
       " 'GoogleSearch_MediaCost_alpha=0.2L=6theta=0_power=0.1',\n",
       " 'Pinterest_MediaCost_alpha=0.1L=2theta=0_power=0.6',\n",
       " 'Radio_MediaCost_alpha=0.1L=2theta=0_power=0.6',\n",
       " 'Snapchat_MediaCost_alpha=0.1L=2theta=0_power=0.6',\n",
       " 'YouTube_MediaCost_alpha=0.5L=2theta=0_power=0.1']"
      ]
     },
     "execution_count": 51,
     "metadata": {},
     "output_type": "execute_result"
    }
   ],
   "source": [
    "get_media_vars(x)"
   ]
  },
  {
   "cell_type": "markdown",
   "metadata": {},
   "source": [
    "To forecast for one-month (or any time length greater than 1 day), write an excel spreadsheet or .csv file with the above columns in that **EXACT** order. Set `use_excel` to `True` if the file is an excel file, else set it to `False`."
   ]
  },
  {
   "cell_type": "code",
   "execution_count": 52,
   "metadata": {},
   "outputs": [],
   "source": [
    "data_type = \"ad data [forecasting]\"\n",
    "use_excel = True"
   ]
  },
  {
   "cell_type": "code",
   "execution_count": 53,
   "metadata": {},
   "outputs": [
    {
     "data": {
      "application/vnd.jupyter.widget-view+json": {
       "model_id": "58bfc1d75a924d86bda3b164e6f26261",
       "version_major": 2,
       "version_minor": 0
      },
      "text/plain": [
       "FileUpload(value={}, accept='.xlsx', description='Upload')"
      ]
     },
     "metadata": {},
     "output_type": "display_data"
    }
   ],
   "source": [
    "forecast_as_bytes = input_file(data_type, use_excel=use_excel)"
   ]
  },
  {
   "cell_type": "code",
   "execution_count": 54,
   "metadata": {
    "tags": []
   },
   "outputs": [
    {
     "name": "stdout",
     "output_type": "stream",
     "text": [
      "Thanks for uploading the ad data [forecasting]. I will display the dataframe in 2 seconds\n"
     ]
    },
    {
     "data": {
      "text/html": [
       "<div>\n",
       "<style scoped>\n",
       "    .dataframe tbody tr th:only-of-type {\n",
       "        vertical-align: middle;\n",
       "    }\n",
       "\n",
       "    .dataframe tbody tr th {\n",
       "        vertical-align: top;\n",
       "    }\n",
       "\n",
       "    .dataframe thead th {\n",
       "        text-align: right;\n",
       "    }\n",
       "</style>\n",
       "<table border=\"1\" class=\"dataframe\">\n",
       "  <thead>\n",
       "    <tr style=\"text-align: right;\">\n",
       "      <th></th>\n",
       "      <th>Amazon</th>\n",
       "      <th>Bing Search</th>\n",
       "      <th>DV360</th>\n",
       "      <th>Facebook</th>\n",
       "      <th>Google Search</th>\n",
       "      <th>Pinterest</th>\n",
       "      <th>Radio</th>\n",
       "      <th>Snapchat</th>\n",
       "      <th>YouTube</th>\n",
       "    </tr>\n",
       "  </thead>\n",
       "  <tbody>\n",
       "    <tr>\n",
       "      <th>0</th>\n",
       "      <td>0</td>\n",
       "      <td>0</td>\n",
       "      <td>0</td>\n",
       "      <td>0</td>\n",
       "      <td>0</td>\n",
       "      <td>0</td>\n",
       "      <td>0</td>\n",
       "      <td>0</td>\n",
       "      <td>0</td>\n",
       "    </tr>\n",
       "    <tr>\n",
       "      <th>1</th>\n",
       "      <td>0</td>\n",
       "      <td>0</td>\n",
       "      <td>0</td>\n",
       "      <td>0</td>\n",
       "      <td>0</td>\n",
       "      <td>0</td>\n",
       "      <td>0</td>\n",
       "      <td>0</td>\n",
       "      <td>0</td>\n",
       "    </tr>\n",
       "    <tr>\n",
       "      <th>2</th>\n",
       "      <td>0</td>\n",
       "      <td>0</td>\n",
       "      <td>0</td>\n",
       "      <td>0</td>\n",
       "      <td>0</td>\n",
       "      <td>0</td>\n",
       "      <td>0</td>\n",
       "      <td>0</td>\n",
       "      <td>0</td>\n",
       "    </tr>\n",
       "    <tr>\n",
       "      <th>3</th>\n",
       "      <td>0</td>\n",
       "      <td>0</td>\n",
       "      <td>0</td>\n",
       "      <td>0</td>\n",
       "      <td>0</td>\n",
       "      <td>0</td>\n",
       "      <td>0</td>\n",
       "      <td>0</td>\n",
       "      <td>0</td>\n",
       "    </tr>\n",
       "    <tr>\n",
       "      <th>4</th>\n",
       "      <td>0</td>\n",
       "      <td>0</td>\n",
       "      <td>0</td>\n",
       "      <td>0</td>\n",
       "      <td>0</td>\n",
       "      <td>0</td>\n",
       "      <td>0</td>\n",
       "      <td>0</td>\n",
       "      <td>0</td>\n",
       "    </tr>\n",
       "    <tr>\n",
       "      <th>5</th>\n",
       "      <td>0</td>\n",
       "      <td>0</td>\n",
       "      <td>0</td>\n",
       "      <td>0</td>\n",
       "      <td>0</td>\n",
       "      <td>0</td>\n",
       "      <td>0</td>\n",
       "      <td>0</td>\n",
       "      <td>0</td>\n",
       "    </tr>\n",
       "    <tr>\n",
       "      <th>6</th>\n",
       "      <td>0</td>\n",
       "      <td>0</td>\n",
       "      <td>0</td>\n",
       "      <td>0</td>\n",
       "      <td>0</td>\n",
       "      <td>0</td>\n",
       "      <td>0</td>\n",
       "      <td>0</td>\n",
       "      <td>0</td>\n",
       "    </tr>\n",
       "    <tr>\n",
       "      <th>7</th>\n",
       "      <td>0</td>\n",
       "      <td>0</td>\n",
       "      <td>0</td>\n",
       "      <td>0</td>\n",
       "      <td>0</td>\n",
       "      <td>0</td>\n",
       "      <td>0</td>\n",
       "      <td>0</td>\n",
       "      <td>0</td>\n",
       "    </tr>\n",
       "    <tr>\n",
       "      <th>8</th>\n",
       "      <td>0</td>\n",
       "      <td>0</td>\n",
       "      <td>0</td>\n",
       "      <td>0</td>\n",
       "      <td>0</td>\n",
       "      <td>0</td>\n",
       "      <td>0</td>\n",
       "      <td>0</td>\n",
       "      <td>0</td>\n",
       "    </tr>\n",
       "    <tr>\n",
       "      <th>9</th>\n",
       "      <td>0</td>\n",
       "      <td>0</td>\n",
       "      <td>0</td>\n",
       "      <td>0</td>\n",
       "      <td>0</td>\n",
       "      <td>0</td>\n",
       "      <td>0</td>\n",
       "      <td>0</td>\n",
       "      <td>0</td>\n",
       "    </tr>\n",
       "    <tr>\n",
       "      <th>10</th>\n",
       "      <td>0</td>\n",
       "      <td>0</td>\n",
       "      <td>0</td>\n",
       "      <td>0</td>\n",
       "      <td>0</td>\n",
       "      <td>0</td>\n",
       "      <td>0</td>\n",
       "      <td>0</td>\n",
       "      <td>0</td>\n",
       "    </tr>\n",
       "    <tr>\n",
       "      <th>11</th>\n",
       "      <td>0</td>\n",
       "      <td>0</td>\n",
       "      <td>0</td>\n",
       "      <td>0</td>\n",
       "      <td>0</td>\n",
       "      <td>0</td>\n",
       "      <td>0</td>\n",
       "      <td>0</td>\n",
       "      <td>0</td>\n",
       "    </tr>\n",
       "    <tr>\n",
       "      <th>12</th>\n",
       "      <td>0</td>\n",
       "      <td>0</td>\n",
       "      <td>0</td>\n",
       "      <td>0</td>\n",
       "      <td>0</td>\n",
       "      <td>0</td>\n",
       "      <td>0</td>\n",
       "      <td>0</td>\n",
       "      <td>0</td>\n",
       "    </tr>\n",
       "    <tr>\n",
       "      <th>13</th>\n",
       "      <td>0</td>\n",
       "      <td>0</td>\n",
       "      <td>0</td>\n",
       "      <td>0</td>\n",
       "      <td>0</td>\n",
       "      <td>0</td>\n",
       "      <td>0</td>\n",
       "      <td>0</td>\n",
       "      <td>0</td>\n",
       "    </tr>\n",
       "    <tr>\n",
       "      <th>14</th>\n",
       "      <td>0</td>\n",
       "      <td>0</td>\n",
       "      <td>0</td>\n",
       "      <td>0</td>\n",
       "      <td>0</td>\n",
       "      <td>0</td>\n",
       "      <td>0</td>\n",
       "      <td>0</td>\n",
       "      <td>0</td>\n",
       "    </tr>\n",
       "    <tr>\n",
       "      <th>15</th>\n",
       "      <td>0</td>\n",
       "      <td>0</td>\n",
       "      <td>0</td>\n",
       "      <td>0</td>\n",
       "      <td>0</td>\n",
       "      <td>0</td>\n",
       "      <td>0</td>\n",
       "      <td>0</td>\n",
       "      <td>0</td>\n",
       "    </tr>\n",
       "    <tr>\n",
       "      <th>16</th>\n",
       "      <td>0</td>\n",
       "      <td>0</td>\n",
       "      <td>0</td>\n",
       "      <td>0</td>\n",
       "      <td>0</td>\n",
       "      <td>0</td>\n",
       "      <td>0</td>\n",
       "      <td>0</td>\n",
       "      <td>0</td>\n",
       "    </tr>\n",
       "    <tr>\n",
       "      <th>17</th>\n",
       "      <td>0</td>\n",
       "      <td>0</td>\n",
       "      <td>0</td>\n",
       "      <td>0</td>\n",
       "      <td>0</td>\n",
       "      <td>0</td>\n",
       "      <td>0</td>\n",
       "      <td>0</td>\n",
       "      <td>0</td>\n",
       "    </tr>\n",
       "    <tr>\n",
       "      <th>18</th>\n",
       "      <td>0</td>\n",
       "      <td>0</td>\n",
       "      <td>0</td>\n",
       "      <td>0</td>\n",
       "      <td>0</td>\n",
       "      <td>0</td>\n",
       "      <td>0</td>\n",
       "      <td>0</td>\n",
       "      <td>0</td>\n",
       "    </tr>\n",
       "    <tr>\n",
       "      <th>19</th>\n",
       "      <td>0</td>\n",
       "      <td>0</td>\n",
       "      <td>0</td>\n",
       "      <td>0</td>\n",
       "      <td>0</td>\n",
       "      <td>0</td>\n",
       "      <td>0</td>\n",
       "      <td>0</td>\n",
       "      <td>0</td>\n",
       "    </tr>\n",
       "    <tr>\n",
       "      <th>20</th>\n",
       "      <td>0</td>\n",
       "      <td>0</td>\n",
       "      <td>0</td>\n",
       "      <td>0</td>\n",
       "      <td>0</td>\n",
       "      <td>0</td>\n",
       "      <td>0</td>\n",
       "      <td>0</td>\n",
       "      <td>0</td>\n",
       "    </tr>\n",
       "    <tr>\n",
       "      <th>21</th>\n",
       "      <td>0</td>\n",
       "      <td>0</td>\n",
       "      <td>0</td>\n",
       "      <td>0</td>\n",
       "      <td>0</td>\n",
       "      <td>0</td>\n",
       "      <td>0</td>\n",
       "      <td>0</td>\n",
       "      <td>0</td>\n",
       "    </tr>\n",
       "    <tr>\n",
       "      <th>22</th>\n",
       "      <td>0</td>\n",
       "      <td>0</td>\n",
       "      <td>0</td>\n",
       "      <td>0</td>\n",
       "      <td>0</td>\n",
       "      <td>0</td>\n",
       "      <td>0</td>\n",
       "      <td>0</td>\n",
       "      <td>0</td>\n",
       "    </tr>\n",
       "    <tr>\n",
       "      <th>23</th>\n",
       "      <td>0</td>\n",
       "      <td>0</td>\n",
       "      <td>0</td>\n",
       "      <td>0</td>\n",
       "      <td>0</td>\n",
       "      <td>0</td>\n",
       "      <td>0</td>\n",
       "      <td>0</td>\n",
       "      <td>0</td>\n",
       "    </tr>\n",
       "    <tr>\n",
       "      <th>24</th>\n",
       "      <td>0</td>\n",
       "      <td>0</td>\n",
       "      <td>0</td>\n",
       "      <td>0</td>\n",
       "      <td>0</td>\n",
       "      <td>0</td>\n",
       "      <td>0</td>\n",
       "      <td>0</td>\n",
       "      <td>0</td>\n",
       "    </tr>\n",
       "    <tr>\n",
       "      <th>25</th>\n",
       "      <td>0</td>\n",
       "      <td>0</td>\n",
       "      <td>0</td>\n",
       "      <td>0</td>\n",
       "      <td>0</td>\n",
       "      <td>0</td>\n",
       "      <td>0</td>\n",
       "      <td>0</td>\n",
       "      <td>0</td>\n",
       "    </tr>\n",
       "    <tr>\n",
       "      <th>26</th>\n",
       "      <td>0</td>\n",
       "      <td>0</td>\n",
       "      <td>0</td>\n",
       "      <td>0</td>\n",
       "      <td>0</td>\n",
       "      <td>0</td>\n",
       "      <td>0</td>\n",
       "      <td>0</td>\n",
       "      <td>0</td>\n",
       "    </tr>\n",
       "  </tbody>\n",
       "</table>\n",
       "</div>"
      ],
      "text/plain": [
       "    Amazon  Bing Search  DV360  Facebook  Google Search  Pinterest  Radio  \\\n",
       "0        0            0      0         0              0          0      0   \n",
       "1        0            0      0         0              0          0      0   \n",
       "2        0            0      0         0              0          0      0   \n",
       "3        0            0      0         0              0          0      0   \n",
       "4        0            0      0         0              0          0      0   \n",
       "5        0            0      0         0              0          0      0   \n",
       "6        0            0      0         0              0          0      0   \n",
       "7        0            0      0         0              0          0      0   \n",
       "8        0            0      0         0              0          0      0   \n",
       "9        0            0      0         0              0          0      0   \n",
       "10       0            0      0         0              0          0      0   \n",
       "11       0            0      0         0              0          0      0   \n",
       "12       0            0      0         0              0          0      0   \n",
       "13       0            0      0         0              0          0      0   \n",
       "14       0            0      0         0              0          0      0   \n",
       "15       0            0      0         0              0          0      0   \n",
       "16       0            0      0         0              0          0      0   \n",
       "17       0            0      0         0              0          0      0   \n",
       "18       0            0      0         0              0          0      0   \n",
       "19       0            0      0         0              0          0      0   \n",
       "20       0            0      0         0              0          0      0   \n",
       "21       0            0      0         0              0          0      0   \n",
       "22       0            0      0         0              0          0      0   \n",
       "23       0            0      0         0              0          0      0   \n",
       "24       0            0      0         0              0          0      0   \n",
       "25       0            0      0         0              0          0      0   \n",
       "26       0            0      0         0              0          0      0   \n",
       "\n",
       "    Snapchat  YouTube  \n",
       "0          0        0  \n",
       "1          0        0  \n",
       "2          0        0  \n",
       "3          0        0  \n",
       "4          0        0  \n",
       "5          0        0  \n",
       "6          0        0  \n",
       "7          0        0  \n",
       "8          0        0  \n",
       "9          0        0  \n",
       "10         0        0  \n",
       "11         0        0  \n",
       "12         0        0  \n",
       "13         0        0  \n",
       "14         0        0  \n",
       "15         0        0  \n",
       "16         0        0  \n",
       "17         0        0  \n",
       "18         0        0  \n",
       "19         0        0  \n",
       "20         0        0  \n",
       "21         0        0  \n",
       "22         0        0  \n",
       "23         0        0  \n",
       "24         0        0  \n",
       "25         0        0  \n",
       "26         0        0  "
      ]
     },
     "metadata": {},
     "output_type": "display_data"
    },
    {
     "name": "stdin",
     "output_type": "stream",
     "text": [
      "Is the header correct [y/n] y\n"
     ]
    },
    {
     "name": "stdout",
     "output_type": "stream",
     "text": [
      "SUCCESS -- PROCEED\n"
     ]
    }
   ],
   "source": [
    "forecast_sales_df = parse_file(forecast_as_bytes, data_type, use_excel=use_excel)"
   ]
  },
  {
   "cell_type": "code",
   "execution_count": 55,
   "metadata": {},
   "outputs": [],
   "source": [
    "forecast_sales_df = forecast_sales_df.iloc[:, np.arange(len(get_media_vars(x)))]\n",
    "forecast_sales_df.columns = get_media_vars(x)"
   ]
  },
  {
   "cell_type": "code",
   "execution_count": 56,
   "metadata": {},
   "outputs": [],
   "source": [
    "forecast_output_df = month_predict(forecast_sales_df.copy(), data_dict[country].copy(), model, model_type)"
   ]
  },
  {
   "cell_type": "markdown",
   "metadata": {},
   "source": [
    "#### plot of predictions\n",
    "\n",
    "Run the next cell to get a plot of predicted revenue for one month (or more) of forecasting. To export these predictions, see the bottom of this notebook for export options."
   ]
  },
  {
   "cell_type": "code",
   "execution_count": 57,
   "metadata": {},
   "outputs": [
    {
     "data": {
      "image/png": "[encoded data removed]",
      "text/plain": [
       "<Figure size 576x396 with 1 Axes>"
      ]
     },
     "metadata": {},
     "output_type": "display_data"
    }
   ],
   "source": [
    "plt.plot(forecast_output_df.predictions)\n",
    "plt.title(\"Forecasted Revenue\");"
   ]
  },
  {
   "cell_type": "markdown",
   "metadata": {},
   "source": [
    "***"
   ]
  },
  {
   "cell_type": "markdown",
   "metadata": {},
   "source": [
    "<a id=\"optimize\"></a> \n",
    "# 4) Optimization"
   ]
  },
  {
   "cell_type": "markdown",
   "metadata": {},
   "source": [
    "We can use the training ridge regression model to optimize the mix. The optimizer can optimize the budget for a single day/week, and for a month. Run the next code cell to get a list of range sliders. Each slider can be adjusted accordingly to set the lower and upper bounds for each column. Then, run the rest of the cells. \n",
    "\n",
    "> Sometimes, the optimizer won't converge, due to either lack of data or lack of statistical significance."
   ]
  },
  {
   "cell_type": "markdown",
   "metadata": {},
   "source": [
    "## model for optimization"
   ]
  },
  {
   "cell_type": "code",
   "execution_count": 58,
   "metadata": {},
   "outputs": [
    {
     "name": "stdout",
     "output_type": "stream",
     "text": [
      "model=Ridge(alpha=1e-05, positive=True) train_r2=0.42619363552014544 validation_r2=-0.07944024167514896\n"
     ]
    },
    {
     "data": {
      "image/png": "[encoded data removed]",
      "text/plain": [
       "<Figure size 576x396 with 2 Axes>"
      ]
     },
     "metadata": {},
     "output_type": "display_data"
    }
   ],
   "source": [
    "x, y = prep_additive_model(data_matrix.fillna(0), target)\n",
    "x_opt = x[get_media_vars(x)]\n",
    "model_opt = ridge_regression(x_opt, y)"
   ]
  },
  {
   "cell_type": "markdown",
   "metadata": {},
   "source": [
    "## optimized budget - day"
   ]
  },
  {
   "cell_type": "markdown",
   "metadata": {},
   "source": [
    "Run the next cell and set the lower and upper bounds appropriately by moving the cursors on the end. Unfortunately, there is no way to type values in as bounds, so be precise when setting the bounds."
   ]
  },
  {
   "cell_type": "markdown",
   "metadata": {},
   "source": [
    "> The one-day optimizer depends heavily on the past two weeks of data, so the one-day optimizer sometimes struggles to find meaningful results. This is corrected by the one-month+ optimizer."
   ]
  },
  {
   "cell_type": "code",
   "execution_count": 33,
   "metadata": {},
   "outputs": [
    {
     "data": {},
     "metadata": {},
     "output_type": "display_data"
    },
    {
     "data": {
      "application/vnd.holoviews_exec.v0+json": "",
      "text/html": [
       "<div id='1002'>\n",
       "\n",
       "\n",
       "\n",
       "\n",
       "\n",
       "  <div class=\"bk-root\" id=\"11fbf23b-fde6-4cf1-b41e-785b531ea182\" data-root-id=\"1002\"></div>\n",
       "</div>\n",
       "<script type=\"application/javascript\">(function(root) {\n",
       "  function embed_document(root) {\n",
       "    var docs_json = {\"a8989f04-a9b5-43b7-8e45-401d51460b66\":{\"defs\":[{\"extends\":null,\"module\":null,\"name\":\"ReactiveHTML1\",\"overrides\":[],\"properties\":[]},{\"extends\":null,\"module\":null,\"name\":\"FlexBox1\",\"overrides\":[],\"properties\":[{\"default\":\"flex-start\",\"kind\":null,\"name\":\"align_content\"},{\"default\":\"flex-start\",\"kind\":null,\"name\":\"align_items\"},{\"default\":\"row\",\"kind\":null,\"name\":\"flex_direction\"},{\"default\":\"wrap\",\"kind\":null,\"name\":\"flex_wrap\"},{\"default\":\"flex-start\",\"kind\":null,\"name\":\"justify_content\"}]},{\"extends\":null,\"module\":null,\"name\":\"TemplateActions1\",\"overrides\":[],\"properties\":[{\"default\":0,\"kind\":null,\"name\":\"open_modal\"},{\"default\":0,\"kind\":null,\"name\":\"close_modal\"}]},{\"extends\":null,\"module\":null,\"name\":\"MaterialTemplateActions1\",\"overrides\":[],\"properties\":[{\"default\":0,\"kind\":null,\"name\":\"open_modal\"},{\"default\":0,\"kind\":null,\"name\":\"close_modal\"}]}],\"roots\":{\"references\":[{\"attributes\":{\"css_classes\":[\"markdown\"],\"margin\":[5,5,5,5],\"name\":\"Markdown00132\"},\"id\":\"1017\",\"type\":\"panel.models.markup.HTML\"},{\"attributes\":{\"end\":50000,\"margin\":[5,10,5,10],\"start\":0,\"title\":\"Facebook_MediaC_bounds\",\"value\":[0,50000]},\"id\":\"1010\",\"type\":\"RangeSlider\"},{\"attributes\":{\"client_comm_id\":\"55e67a6c458b4eec8cdb0e987948d95c\",\"comm_id\":\"6ca7777eb8e540f38825fa69098c865d\",\"plot_id\":\"1002\"},\"id\":\"1021\",\"type\":\"panel.models.comm_manager.CommManager\"},{\"attributes\":{\"end\":50000,\"margin\":[5,10,5,10],\"start\":0,\"title\":\"Pinterest_Media_bounds\",\"value\":[0,50000]},\"id\":\"1014\",\"type\":\"RangeSlider\"},{\"attributes\":{\"reload\":false},\"id\":\"1022\",\"type\":\"panel.models.location.Location\"},{\"attributes\":{\"end\":50000,\"margin\":[5,10,5,10],\"start\":0,\"title\":\"Snapchat_MediaC_bounds\",\"value\":[0,50000]},\"id\":\"1018\",\"type\":\"RangeSlider\"},{\"attributes\":{\"css_classes\":[\"markdown\"],\"margin\":[5,5,5,5],\"name\":\"Markdown00128\"},\"id\":\"1015\",\"type\":\"panel.models.markup.HTML\"},{\"attributes\":{\"css_classes\":[\"markdown\"],\"margin\":[5,5,5,5],\"name\":\"Markdown00120\"},\"id\":\"1011\",\"type\":\"panel.models.markup.HTML\"},{\"attributes\":{\"end\":50000,\"margin\":[5,10,5,10],\"start\":0,\"title\":\"YouTube_MediaCo_bounds\",\"value\":[0,50000]},\"id\":\"1020\",\"type\":\"RangeSlider\"},{\"attributes\":{\"css_classes\":[\"markdown\"],\"margin\":[5,5,5,5],\"name\":\"Markdown00124\"},\"id\":\"1013\",\"type\":\"panel.models.markup.HTML\"},{\"attributes\":{\"end\":50000,\"margin\":[5,10,5,10],\"start\":0,\"title\":\"Radio_MediaCost_bounds\",\"value\":[0,50000]},\"id\":\"1016\",\"type\":\"RangeSlider\"},{\"attributes\":{\"css_classes\":[\"markdown\"],\"margin\":[5,5,5,5],\"name\":\"Markdown00136\"},\"id\":\"1019\",\"type\":\"panel.models.markup.HTML\"},{\"attributes\":{\"end\":50000,\"margin\":[5,10,5,10],\"start\":0,\"title\":\"BingSearch_Medi_bounds\",\"value\":[0,50000]},\"id\":\"1006\",\"type\":\"RangeSlider\"},{\"attributes\":{\"css_classes\":[\"markdown\"],\"margin\":[5,5,5,5],\"name\":\"Markdown00112\"},\"id\":\"1007\",\"type\":\"panel.models.markup.HTML\"},{\"attributes\":{\"css_classes\":[\"markdown\"],\"margin\":[5,5,5,5],\"name\":\"Markdown00116\"},\"id\":\"1009\",\"type\":\"panel.models.markup.HTML\"},{\"attributes\":{\"end\":50000,\"margin\":[5,10,5,10],\"start\":0,\"title\":\"DV360_MediaCost_bounds\",\"value\":[0,50000]},\"id\":\"1008\",\"type\":\"RangeSlider\"},{\"attributes\":{\"children\":[{\"id\":\"1003\"},{\"id\":\"1004\"},{\"id\":\"1005\"},{\"id\":\"1006\"},{\"id\":\"1007\"},{\"id\":\"1008\"},{\"id\":\"1009\"},{\"id\":\"1010\"},{\"id\":\"1011\"},{\"id\":\"1012\"},{\"id\":\"1013\"},{\"id\":\"1014\"},{\"id\":\"1015\"},{\"id\":\"1016\"},{\"id\":\"1017\"},{\"id\":\"1018\"},{\"id\":\"1019\"},{\"id\":\"1020\"}],\"margin\":[0,0,0,0],\"name\":\"Column00102\"},\"id\":\"1002\",\"type\":\"Column\"},{\"attributes\":{\"end\":50000,\"margin\":[5,10,5,10],\"start\":0,\"title\":\"GoogleSearch_Me_bounds\",\"value\":[0,50000]},\"id\":\"1012\",\"type\":\"RangeSlider\"},{\"attributes\":{\"css_classes\":[\"markdown\"],\"margin\":[5,5,5,5],\"name\":\"Markdown00104\"},\"id\":\"1003\",\"type\":\"panel.models.markup.HTML\"},{\"attributes\":{\"css_classes\":[\"markdown\"],\"margin\":[5,5,5,5],\"name\":\"Markdown00108\"},\"id\":\"1005\",\"type\":\"panel.models.markup.HTML\"},{\"attributes\":{\"end\":50000,\"margin\":[5,10,5,10],\"start\":0,\"title\":\"Amazon_MediaCos_bounds\",\"value\":[0,50000]},\"id\":\"1004\",\"type\":\"RangeSlider\"}],\"root_ids\":[\"1002\",\"1021\",\"1022\"]},\"title\":\"Bokeh Application\",\"version\":\"2.4.2\"}};\n",
       "    var render_items = [{\"docid\":\"a8989f04-a9b5-43b7-8e45-401d51460b66\",\"root_ids\":[\"1002\"],\"roots\":{\"1002\":\"11fbf23b-fde6-4cf1-b41e-785b531ea182\"}}];\n",
       "    root.Bokeh.embed.embed_items_notebook(docs_json, render_items);\n",
       "  }\n",
       "  if (root.Bokeh !== undefined && root.Bokeh.Panel !== undefined) {\n",
       "    embed_document(root);\n",
       "  } else {\n",
       "    var attempts = 0;\n",
       "    var timer = setInterval(function(root) {\n",
       "      if (root.Bokeh !== undefined && root.Bokeh.Panel !== undefined) {\n",
       "        clearInterval(timer);\n",
       "        embed_document(root);\n",
       "      } else if (document.readyState == \"complete\") {\n",
       "        attempts++;\n",
       "        if (attempts > 200) {\n",
       "          clearInterval(timer);\n",
       "          console.log(\"Bokeh: ERROR: Unable to run BokehJS code because BokehJS library is missing\");\n",
       "        }\n",
       "      }\n",
       "    }, 25, root)\n",
       "  }\n",
       "})(window);</script>"
      ],
      "text/plain": [
       "Column\n",
       "    [0] Markdown(str)\n",
       "    [1] IntRangeSlider(end=50000, name='Amazon_MediaCos_bounds', value=(0, 50000), value_end=50000)\n",
       "    [2] Markdown(str)\n",
       "    [3] IntRangeSlider(end=50000, name='BingSearch_Medi_bounds', value=(0, 50000), value_end=50000)\n",
       "    [4] Markdown(str)\n",
       "    [5] IntRangeSlider(end=50000, name='DV360_MediaCost_bounds', value=(0, 50000), value_end=50000)\n",
       "    [6] Markdown(str)\n",
       "    [7] IntRangeSlider(end=50000, name='Facebook_MediaC_bounds', value=(0, 50000), value_end=50000)\n",
       "    [8] Markdown(str)\n",
       "    [9] IntRangeSlider(end=50000, name='GoogleSearch_Me_bounds', value=(0, 50000), value_end=50000)\n",
       "    [10] Markdown(str)\n",
       "    [11] IntRangeSlider(end=50000, name='Pinterest_Media_bounds', value=(0, 50000), value_end=50000)\n",
       "    [12] Markdown(str)\n",
       "    [13] IntRangeSlider(end=50000, name='Radio_MediaCost_bounds', value=(0, 50000), value_end=50000)\n",
       "    [14] Markdown(str)\n",
       "    [15] IntRangeSlider(end=50000, name='Snapchat_MediaC_bounds', value=(0, 50000), value_end=50000)\n",
       "    [16] Markdown(str)\n",
       "    [17] IntRangeSlider(end=50000, name='YouTube_MediaCo_bounds', value=(0, 50000), value_end=50000)"
      ]
     },
     "execution_count": 33,
     "metadata": {
      "application/vnd.holoviews_exec.v0+json": {
       "id": "1002"
      }
     },
     "output_type": "execute_result"
    }
   ],
   "source": [
    "dm2 = pd.concat([x_opt, y], axis=1)\n",
    "bounds, a = set_bounds(model_opt)\n",
    "bounds"
   ]
  },
  {
   "cell_type": "markdown",
   "metadata": {},
   "source": [
    "In the next cell, edit the budget parameter by setting the value after `budget=` to whatever specified budget size you'd like. Then, run the cell."
   ]
  },
  {
   "cell_type": "code",
   "execution_count": 34,
   "metadata": {
    "tags": []
   },
   "outputs": [
    {
     "name": "stdout",
     "output_type": "stream",
     "text": [
      "Budget = $30000, Expected Revenue/Orders = 565.5328229369438\n"
     ]
    }
   ],
   "source": [
    "b = add_optimize_budget(data_dict[country].copy(), dm2.copy(), model_opt, a, budget=30000)"
   ]
  },
  {
   "cell_type": "code",
   "execution_count": 35,
   "metadata": {},
   "outputs": [
    {
     "data": {
      "image/png": "[encoded data removed]",
      "text/plain": [
       "<Figure size 576x396 with 1 Axes>"
      ]
     },
     "metadata": {},
     "output_type": "display_data"
    }
   ],
   "source": [
    "graph(b, 'optimized budget')"
   ]
  },
  {
   "cell_type": "code",
   "execution_count": 38,
   "metadata": {},
   "outputs": [
    {
     "data": {
      "text/plain": [
       "count       5.000000\n",
       "mean     1050.200000\n",
       "std       139.245108\n",
       "min       908.000000\n",
       "25%       938.000000\n",
       "50%      1012.000000\n",
       "75%      1181.000000\n",
       "max      1212.000000\n",
       "Name: Orders, dtype: float64"
      ]
     },
     "execution_count": 38,
     "metadata": {},
     "output_type": "execute_result"
    }
   ],
   "source": [
    "data_dict[country].head().Orders.describe()"
   ]
  },
  {
   "cell_type": "markdown",
   "metadata": {},
   "source": [
    "***\n",
    "\n",
    "## optimized budget - month"
   ]
  },
  {
   "cell_type": "markdown",
   "metadata": {},
   "source": [
    "To get the optimized budget for a month, run the next cell to get more bounds sliders. After that, run the next two cells, which will output a graph. To export the optimized budget to an excel spreadsheet, run the code under this section.\n",
    "\n",
    "If the graph has low variance and values converge, the columns for which the spend converges are yet to be saturated. If the graph has high variance and values don't converge, under our assumptions, spend for the non-converging channels has reached saturation."
   ]
  },
  {
   "cell_type": "code",
   "execution_count": null,
   "metadata": {},
   "outputs": [],
   "source": [
    "bounds"
   ]
  },
  {
   "cell_type": "code",
   "execution_count": null,
   "metadata": {
    "scrolled": true,
    "tags": []
   },
   "outputs": [],
   "source": [
    "llb = add_optimize_month(data_dict[country].copy(), data_matrix.copy(), model_opt, col_to_slider=a, budget=3000)"
   ]
  },
  {
   "cell_type": "code",
   "execution_count": null,
   "metadata": {},
   "outputs": [],
   "source": [
    "graph_month(llb, x_opt)"
   ]
  },
  {
   "cell_type": "markdown",
   "metadata": {},
   "source": [
    "***\n",
    "## Exports"
   ]
  },
  {
   "cell_type": "markdown",
   "metadata": {},
   "source": [
    "### One-Month Forecasting"
   ]
  },
  {
   "cell_type": "markdown",
   "metadata": {},
   "source": [
    "Add a unique file name into the string in the next cell, leaving out the file suffix. Then, run the cell after that to get a download link to the forecast. The Excel spreadsheet will have a new column containing the predictions."
   ]
  },
  {
   "cell_type": "code",
   "execution_count": null,
   "metadata": {},
   "outputs": [],
   "source": [
    "unique_file_name = \"SAAS_one_month_fcastA\""
   ]
  },
  {
   "cell_type": "code",
   "execution_count": null,
   "metadata": {},
   "outputs": [],
   "source": [
    "def export_month_forecasting(forecast_output_df, client, unique_file_name):\n",
    "    forecast_output_df.to_excel(unique_file_name + \".xlsx\", index=False)\n",
    "    file = FileLink(unique_file_name + \".xlsx\")\n",
    "    display(file)\n",
    "export_month_forecasting(forecast_output_df, client, unique_file_name)"
   ]
  },
  {
   "cell_type": "markdown",
   "metadata": {},
   "source": [
    "### Optimized Month"
   ]
  },
  {
   "cell_type": "markdown",
   "metadata": {},
   "source": [
    "Run this cell to get a download link to the optimized budget. This cell requires the optimized_budget - month section to be run."
   ]
  },
  {
   "cell_type": "code",
   "execution_count": null,
   "metadata": {},
   "outputs": [],
   "source": [
    "def export_optimized_month(llb, x_opt, client):\n",
    "    name = f\"{client}_optimized_month.xlsx\"\n",
    "    pd.DataFrame(columns=[shorten_f_name(y) for y in x_opt.columns], data=np.array(llb)[:, :len(x_opt.columns)]).to_excel(name, index=False)\n",
    "    file = FileLink(name)\n",
    "    display(file)\n",
    "export_optimized_month(llb, x_opt, client)"
   ]
  },
  {
   "cell_type": "markdown",
   "metadata": {},
   "source": [
    "### Model Coefficients"
   ]
  },
  {
   "cell_type": "markdown",
   "metadata": {},
   "source": [
    "Run this cell to get a download link to the model's coefficients."
   ]
  },
  {
   "cell_type": "code",
   "execution_count": null,
   "metadata": {},
   "outputs": [],
   "source": [
    "def export_model_coefficients(model, client):\n",
    "    name = f\"{client}_model_coefficients.xlsx\"\n",
    "    model_coefficients = dict(zip([shorten_f_name(y) for y in model.feature_names_in_], model.coef_))\n",
    "    pd.DataFrame(data=model_coefficients, index=[0]).to_excel(name, index=False)\n",
    "    file = FileLink(name)\n",
    "    display(file)\n",
    "\n",
    "export_model_coefficients(model, client)"
   ]
  },
  {
   "cell_type": "markdown",
   "metadata": {},
   "source": [
    "This notebook was designed by __[SAAS Berkeley Data Consulting](https://saas.berkeley.edu/)__"
   ]
  },
  {
   "cell_type": "markdown",
   "metadata": {},
   "source": [
    "### Attribution Table"
   ]
  },
  {
   "cell_type": "markdown",
   "metadata": {},
   "source": [
    "Run this cell to get a download link to the attribution table."
   ]
  },
  {
   "cell_type": "code",
   "execution_count": null,
   "metadata": {},
   "outputs": [],
   "source": [
    "def export_attribution_table(model, data_matrix, filename):\n",
    "    \"\"\"\n",
    "        inputs: \n",
    "            model\n",
    "            data_matrix\n",
    "        returns:\n",
    "            writes excel spreadsheet attribution table\n",
    "            \n",
    "    \"\"\"\n",
    "    attribution_table(model, data_matrix, filename)"
   ]
  }
 ],
 "metadata": {
  "kernelspec": {
   "display_name": "Python 3",
   "language": "python",
   "name": "python3"
  },
  "language_info": {
   "codemirror_mode": {
    "name": "ipython",
    "version": 3
   },
   "file_extension": ".py",
   "mimetype": "text/x-python",
   "name": "python",
   "nbconvert_exporter": "python",
   "pygments_lexer": "ipython3",
   "version": "3.8.3"
  },
  "toc-autonumbering": false,
  "toc-showcode": false,
  "toc-showmarkdowntxt": false,
  "toc-showtags": true
 },
 "nbformat": 4,
 "nbformat_minor": 4
}
